{
 "cells": [
  {
   "cell_type": "markdown",
   "metadata": {},
   "source": [
    "# Pandas\n",
    "\n",
    "---\n",
    "\n",
    "(2020. 01. 28. – 13. óra)\n",
    "\n",
    "Mittelholcz Iván"
   ]
  },
  {
   "cell_type": "markdown",
   "metadata": {},
   "source": [
    "## 1. Bevezetés"
   ]
  },
  {
   "cell_type": "markdown",
   "metadata": {},
   "source": [
    "### 1.1. Python csomagok statisztikához és gépi tanuláshoz\n",
    "\n",
    "* [numpy](http://www.numpy.org/): adatszerkezetek (array), matematikai számítások, lineáris algebra\n",
    "* [scipy](https://www.scipy.org/): numpy-ra épülő, tudományos számítások\n",
    "* [matplotlib](https://matplotlib.org/), [seaborn](https://seaborn.pydata.org/): adatvizualizáció, plottolás\n",
    "* [pandas](http://pandas.pydata.org/): dataframe adatszerkezet adatok kezeléséhez\n",
    "* [scikit-learn](http://scikit-learn.org/stable/): gépitanulás"
   ]
  },
  {
   "cell_type": "markdown",
   "metadata": {},
   "source": [
    "### 1.2. Írisz adatbázis\n",
    "\n",
    "(Fisher, 1936)\n",
    "\n",
    "Gépitanulós, adattudományos *hello world*:\n",
    "\n",
    "- 150 írisz\n",
    "- négy tulajdonság: *sepal_length*, *sepal_width*, *petal_length*, *petal_width*\n",
    "- három alosztály: *setosa*, *versicolor*, *virginica*\n",
    "\n",
    "<img src=\"https://www.math.umd.edu/~petersd/666/html/iris_with_labels.jpg\" />"
   ]
  },
  {
   "cell_type": "markdown",
   "metadata": {},
   "source": [
    "## 2. Pandas DataFrame\n",
    "\n",
    "A Pandas saját, kétdimenziós, címkézett adatszerkezete. Series-ekből (egydimenziós címkézett adatszerkezetekből épül fel -- ezekkel nem fogunk foglalkozni).\n",
    "\n",
    "CSV fájl beolvasása DF-be:\n",
    "\n",
    "```py\n",
    "df = pd.read_csv('filename')\n",
    "```\n",
    "\n",
    "Hasznos opcionális paraméterek:\n",
    "\n",
    "- `sep='\\t'`: TSV-hez.\n",
    "- `index_col=0`: Saját index (címke) oszlop megadása.\n",
    "\n",
    "DF kiírása CSV fájlba:\n",
    "\n",
    "```py\n",
    "df.to_csv('filename')\n",
    "```\n",
    "\n",
    "A `sep` paraméter itt is hasznos lehet!"
   ]
  },
  {
   "cell_type": "code",
   "execution_count": null,
   "metadata": {},
   "outputs": [],
   "source": [
    "# Példa\n",
    "\n",
    "import pandas as pd\n",
    "\n",
    "# TODO!\n",
    "df = pd.read_csv('iris.tsv')\n",
    "# Feladat: javítsuk meg a beolvasást!\n",
    "df"
   ]
  },
  {
   "cell_type": "markdown",
   "metadata": {},
   "source": [
    "## 3. Megjelenítés, alap infók\n",
    "\n",
    "- DF első (*n*) sora: `df.head()`, `df.head(n)`\n",
    "- DF utolsó (*n*) sora: `df.tail()`, `df.tail(n)`\n",
    "- Adattípus: `type(df)`\n",
    "- Hányszor hányas: `df.shape`\n",
    "- Mit lehet még tudni róla: `df.info()`"
   ]
  },
  {
   "cell_type": "code",
   "execution_count": null,
   "metadata": {},
   "outputs": [],
   "source": [
    "# Feladatok:\n",
    "\n",
    "# Dimenziók?\n",
    "\n",
    "# Mekkora helyet foglal a memóriában?\n",
    "\n",
    "# Írassuk ki az utolsó 10 sort\n"
   ]
  },
  {
   "cell_type": "markdown",
   "metadata": {},
   "source": [
    "## 4. Sorok, oszlopok indexelése, szeletelése\n",
    "\n",
    "Egy DF-ben a sorok és oszlopok címkézettek és pozíciójuk is van $\\rightarrow$ egyszerre tudnak szótárszerűen és listaszerűen is viselkedni: hivatkozhatók kulcsszó ill. pozíció szerint is!\n",
    "\n",
    "- címkék: `df.axes`\n",
    "- sorcímkék: `df.axes[0]`\n",
    "- oszlopcímkék: `df.axes[1]`\n",
    "- adatok, címkék nélkül: `df.values`"
   ]
  },
  {
   "cell_type": "markdown",
   "metadata": {},
   "source": [
    "### 4.1. Közvetlen hivatkozás\n",
    "\n",
    "- A DF oszlopai közvetlenül a nevükkel hivatkozhatók (`df['oszlopnev']`), de pozícióval nem.\n",
    "- A sorok nem hivatkozhatók közvetlenül.\n",
    "- A DF közvetlenül nem is szeletelhető."
   ]
  },
  {
   "cell_type": "markdown",
   "metadata": {},
   "source": [
    "### 4.2. Hivatkozás címkékkel (`df.loc`)\n",
    "\n",
    "```py\n",
    "df.loc[[sorcímkék], [oszlopcímkék]]\n",
    "```\n",
    "\n",
    "- egy cella: `df.loc[[x], [y]]`\n",
    "- több cella: `df.loc[[x1, x2, ...], [y1, y2, ...]]` (listával)\n",
    "- több cella:  `df.loc[x1:x2, y1:y2]` (szeleteléssel, inklúzív!)\n",
    "- egy sor: `df.loc[[x], :]`\n",
    "- egy oszlop: `df.loc[:, [y]]`\n",
    "- több sor: `df.loc[[x1, x2, ...], :]` (listával)\n",
    "- több sor: `df.loc[x1:x2, :]` (szeleteléssel)\n",
    "- több oszlop: `df.loc[:, [x1, x2, ...]]` (listával)\n",
    "- több oszlop: `df.loc[:, x1:x2]` (szeleteléssel)\n",
    "\n"
   ]
  },
  {
   "cell_type": "markdown",
   "metadata": {},
   "source": [
    "### 4.3. Hivatkozás pozícióval (`df.iloc`)\n",
    "\n",
    "```py\n",
    "df.iloc[[sor_pozíciók], [oszlop_pozíciók]]\n",
    "```\n",
    "\n",
    "Ugyanaz, mint a `df.loc`, de szeletelésnél a *meddig* exkluzív (ahogy pythonban)!"
   ]
  },
  {
   "cell_type": "code",
   "execution_count": null,
   "metadata": {},
   "outputs": [],
   "source": [
    "# Feladatok\n",
    "\n",
    "# Irassuk ki a 95-105 sorokban található levélszélességeket többféleképpen is.\n"
   ]
  },
  {
   "cell_type": "markdown",
   "metadata": {},
   "source": [
    "## 5. Manipulálás"
   ]
  },
  {
   "cell_type": "markdown",
   "metadata": {},
   "source": [
    "### 5. 1. Sorok szűrése\n",
    "\n",
    "Oszlopra is megfogalmazhatunk feltételt $\\rightarrow$ boolean oszlop. Példa:"
   ]
  },
  {
   "cell_type": "code",
   "execution_count": null,
   "metadata": {},
   "outputs": [],
   "source": [
    "df['sepal_length'] < 4.8"
   ]
  },
  {
   "cell_type": "code",
   "execution_count": null,
   "metadata": {},
   "outputs": [],
   "source": [
    "df['petal_length'] < 1.5"
   ]
  },
  {
   "cell_type": "markdown",
   "metadata": {},
   "source": [
    "A feltételek kombinálhatóak bináris operátorokkal (zárójel kötelező!)\n",
    "\n",
    "Operátorok:\n",
    "\n",
    "- `&`: *és*\n",
    "- `|`: *vagy*\n",
    "- `~`: *nem*"
   ]
  },
  {
   "cell_type": "code",
   "execution_count": null,
   "metadata": {},
   "outputs": [],
   "source": [
    "(df['sepal_length'] < 4.8) | (df['petal_length'] < 1.5)"
   ]
  },
  {
   "cell_type": "markdown",
   "metadata": {},
   "source": [
    "Sorok szűrhetők boolean oszlopokkal: az *hamis* sorok nem lesznek az eredményben:"
   ]
  },
  {
   "cell_type": "code",
   "execution_count": null,
   "metadata": {},
   "outputs": [],
   "source": [
    "df[df['sepal_length'] < 4.8]"
   ]
  },
  {
   "cell_type": "code",
   "execution_count": null,
   "metadata": {},
   "outputs": [],
   "source": [
    "# Feladat: Keressük azokat az íriszeket, amelyeknél a sepal_length < 4.8 és a petal_length < 1.5\n"
   ]
  },
  {
   "cell_type": "markdown",
   "metadata": {},
   "source": [
    "### 5.2. Oszlop hozzáadása"
   ]
  },
  {
   "cell_type": "markdown",
   "metadata": {},
   "source": [
    "Új oszlopot adhatunk meg:\n",
    "\n",
    "- konstans értékkel\n",
    "- listaszerűséggel\n",
    "- oszlop + művelettel\n",
    "- a [`transform()`](https://pandas.pydata.org/pandas-docs/stable/reference/api/pandas.DataFrame.transform.html) metódussal"
   ]
  },
  {
   "cell_type": "code",
   "execution_count": null,
   "metadata": {},
   "outputs": [],
   "source": [
    "# Példák\n",
    "\n",
    "df2 = df.copy()\n",
    "df2['const'] = 1\n",
    "df2['range'] = range(1, 300, 2)\n",
    "df2['sl_inc'] = df2['sepal_length'] + 1\n",
    "df2['petal_sum'] = df2['petal_length'] + df2['petal_width']\n",
    "df2"
   ]
  },
  {
   "cell_type": "markdown",
   "metadata": {},
   "source": [
    "## Alap statisztikak"
   ]
  },
  {
   "cell_type": "code",
   "execution_count": null,
   "metadata": {},
   "outputs": [],
   "source": [
    "df.describe()"
   ]
  },
  {
   "cell_type": "code",
   "execution_count": null,
   "metadata": {},
   "outputs": [],
   "source": [
    "# legkisebb érték\n",
    "df['sepal_length'].min()"
   ]
  },
  {
   "cell_type": "code",
   "execution_count": null,
   "metadata": {},
   "outputs": [],
   "source": [
    "# legnagyobb érték\n",
    "df['sepal_length'].max()"
   ]
  },
  {
   "cell_type": "code",
   "execution_count": null,
   "metadata": {},
   "outputs": [],
   "source": [
    "# értékek összege\n",
    "df['sepal_length'].sum()"
   ]
  },
  {
   "cell_type": "code",
   "execution_count": null,
   "metadata": {},
   "outputs": [],
   "source": [
    "# átlag\n",
    "df['sepal_length'].mean()"
   ]
  },
  {
   "cell_type": "code",
   "execution_count": null,
   "metadata": {},
   "outputs": [],
   "source": [
    "# medián\n",
    "df['sepal_length'].median()"
   ]
  },
  {
   "cell_type": "code",
   "execution_count": null,
   "metadata": {},
   "outputs": [],
   "source": [
    "# modusz, leggyakoribb érték\n",
    "df['sepal_length'].mode()"
   ]
  },
  {
   "cell_type": "code",
   "execution_count": null,
   "metadata": {},
   "outputs": [],
   "source": [
    "# szórás\n",
    "df['sepal_length'].std()"
   ]
  },
  {
   "cell_type": "code",
   "execution_count": null,
   "metadata": {},
   "outputs": [],
   "source": [
    "# értékek gyakorisága\n",
    "df['sepal_length'].value_counts()"
   ]
  },
  {
   "cell_type": "code",
   "execution_count": null,
   "metadata": {},
   "outputs": [],
   "source": [
    "# Feladat: Melyek azok az íriszek, amelyeknek mind a négy levélmérete átlag feletti?\n",
    "# Ne kézzel adjuk meg az átlagok értékét!\n"
   ]
  },
  {
   "cell_type": "markdown",
   "metadata": {},
   "source": [
    "## Irodalom\n",
    "\n",
    "- Hivatalos:\n",
    "    - [Dokumentáció](https://pandas.pydata.org/pandas-docs/stable/)\n",
    "    - [Getting started](https://pandas.pydata.org/pandas-docs/stable/getting_started/index.html)\n",
    "- [Real Python: Pandas](https://realpython.com/search?q=pandas)\n",
    "- [Downey, Allen B.: Think Stats](http://www.greenteapress.com/thinkstats/)\n",
    "- [VanderPlas, Jake: Python Data Science Handbook](https://jakevdp.github.io/PythonDataScienceHandbook/)"
   ]
  }
 ],
 "metadata": {
  "kernelspec": {
   "display_name": "Python 3",
   "language": "python",
   "name": "python3"
  },
  "language_info": {
   "codemirror_mode": {
    "name": "ipython",
    "version": 3
   },
   "file_extension": ".py",
   "mimetype": "text/x-python",
   "name": "python",
   "nbconvert_exporter": "python",
   "pygments_lexer": "ipython3",
   "version": "3.7.9"
  }
 },
 "nbformat": 4,
 "nbformat_minor": 2
}
