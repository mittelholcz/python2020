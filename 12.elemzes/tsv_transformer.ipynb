{
 "cells": [
  {
   "cell_type": "markdown",
   "id": "8327bc9d",
   "metadata": {},
   "source": [
    "# TSV Transformer\n",
    "\n",
    "*e-magyar*-ral elemzett fájlok átalakítása NOOJ kompatibilis formára.\n",
    "\n",
    "Formátum:\n",
    "- *Egy sor = egy szó*, elemzéssel együtt, egybe írva\n",
    "- Az *e-magyar* üres sorai (a mondathatárok) megőrződnek.\n",
    "- Az *e-magyar* elemzéseiből megőrződnek a következők:\n",
    "    - tokenizákló (*form* oszlop)\n",
    "    - szófaji egyértelműsítő (*lemma* és *xpostag* oszlopok)\n",
    "    - ~a függőségi elemző (*id*, *deprel* és *head* oszlopok)~\n",
    "        - TODO: A függőségi elemzés további egyeztetésig kikommentezve!\n",
    "- Az elemzésekből a következő karakterek törlésre kerülnek: `/ | [ ] . ( ) * _`\n",
    "- Az `1`, a `2` és a `3` rendre `E`, `K` és `H`-ra cserélve.\n",
    "\n",
    "Használat:\n",
    "- Az 1. pont (*Input és output*) alatt ítjuk át a fájlneveket (és elérési utakat) a megfelelőre.\n",
    "- Futtassuk az 1-2-3 pontok alatti kódblokkokat."
   ]
  },
  {
   "cell_type": "markdown",
   "id": "8ddc937c",
   "metadata": {},
   "source": [
    "## 1. Input és output\n",
    "\n",
    "Itt lehet megadni a bemeneti fájlt, és az átalakított fájl nevét."
   ]
  },
  {
   "cell_type": "code",
   "execution_count": null,
   "id": "106e2bc1",
   "metadata": {},
   "outputs": [],
   "source": [
    "# az emagyarral elemzett fájl\n",
    "input_ = 'orkeny.tsv'\n",
    "\n",
    "# a nooj-kompatibilisre átalakított fájl\n",
    "output = 'nooj_orkeny.tsv'"
   ]
  },
  {
   "cell_type": "markdown",
   "id": "c72de966",
   "metadata": {},
   "source": [
    "## 2. Átalakítás\n",
    "\n",
    "Az átalakítást végző függvény és a hozzá tartozó \"táblázat\" (l. [`str.maketrans()`](https://docs.python.org/3/library/stdtypes.html#str.maketrans)), ami a karaktercseréket tárolja."
   ]
  },
  {
   "cell_type": "code",
   "execution_count": null,
   "id": "e156239b",
   "metadata": {},
   "outputs": [],
   "source": [
    "# karaktercserék\n",
    "table = str.maketrans({\n",
    "    '1': 'E',\n",
    "    '2': 'K',\n",
    "    '3': 'H',\n",
    "    '/': '',\n",
    "    '|': '',\n",
    "    '[': '',\n",
    "    ']': '',\n",
    "    '.': '',\n",
    "    '(': '',\n",
    "    ')': '',\n",
    "    '*': '',\n",
    "    '_': '',\n",
    "})\n",
    "\n",
    "\n",
    "# átalakító függvény\n",
    "def transform(row):\n",
    "    form = 'W' + row['form']\n",
    "    lemma = 'L' + row['lemma']\n",
    "    pos = 'P' + row['xpostag']\n",
    "    # dependencia elemzés egyelőre kikommentelve:\n",
    "    # dep = 'D' + row['id'] + row['deprel'] + row['head']\n",
    "    res = form + lemma + pos #+ dep\n",
    "    res = res.translate(table)\n",
    "    # üres sorok (mondatharárok) kezelése:\n",
    "    if not any(row):\n",
    "        res = ''\n",
    "    return res\n"
   ]
  },
  {
   "cell_type": "markdown",
   "id": "0bfccbe4",
   "metadata": {},
   "source": [
    "## 3. Beolvasás, kiírás"
   ]
  },
  {
   "cell_type": "code",
   "execution_count": null,
   "id": "b41754af",
   "metadata": {},
   "outputs": [],
   "source": [
    "# input / output\n",
    "\n",
    "import pandas as pd\n",
    "\n",
    "\n",
    "df = pd.read_csv(input_, sep='\\t', dtype=str, keep_default_na=False, skip_blank_lines=False)\n",
    "\n",
    "with open(output, 'w') as out:\n",
    "    df.apply(transform, axis=1).to_csv(out, sep='\\t', header=False, index=False)"
   ]
  }
 ],
 "metadata": {
  "kernelspec": {
   "display_name": "Python 3",
   "language": "python",
   "name": "python3"
  },
  "language_info": {
   "codemirror_mode": {
    "name": "ipython",
    "version": 3
   },
   "file_extension": ".py",
   "mimetype": "text/x-python",
   "name": "python",
   "nbconvert_exporter": "python",
   "pygments_lexer": "ipython3",
   "version": "3.9.5"
  }
 },
 "nbformat": 4,
 "nbformat_minor": 5
}
