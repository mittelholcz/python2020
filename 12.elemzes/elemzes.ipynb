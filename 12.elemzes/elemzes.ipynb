{
 "cells": [
  {
   "cell_type": "markdown",
   "id": "d51cbb52",
   "metadata": {},
   "source": [
    "# e-magyar elemzés\n",
    "\n",
    "---\n",
    "\n",
    "(2021. 04. 16.)\n",
    "\n",
    "Mittelholcz Iván"
   ]
  },
  {
   "cell_type": "markdown",
   "id": "dfc0ffdb",
   "metadata": {},
   "source": [
    "## 1. Az e-magyar használata"
   ]
  },
  {
   "cell_type": "markdown",
   "id": "628a9746",
   "metadata": {},
   "source": [
    "Az elemzendő szöveg:"
   ]
  },
  {
   "cell_type": "code",
   "execution_count": null,
   "id": "d50f5231",
   "metadata": {},
   "outputs": [],
   "source": [
    "!cat orkeny.txt"
   ]
  },
  {
   "cell_type": "markdown",
   "id": "d61fa72b",
   "metadata": {},
   "source": [
    "Az e-magyar legfrissebb verziójának letöltése:"
   ]
  },
  {
   "cell_type": "code",
   "execution_count": null,
   "id": "00697f28",
   "metadata": {},
   "outputs": [],
   "source": [
    "!docker pull mtaril/emtsv:latest"
   ]
  },
  {
   "cell_type": "markdown",
   "id": "7ccb0fff",
   "metadata": {},
   "source": [
    "Az *orkeny.txt* elemzése, az eredmény kiírása az *orkény.tsv* fájlba:"
   ]
  },
  {
   "cell_type": "code",
   "execution_count": null,
   "id": "cb357cfb",
   "metadata": {},
   "outputs": [],
   "source": [
    "!docker run --rm -i mtaril/emtsv:latest tok,morph,pos,ner,conv-morph,dep <orkeny.txt >orkeny.tsv"
   ]
  },
  {
   "cell_type": "markdown",
   "id": "0d720364",
   "metadata": {},
   "source": [
    "Magyarázatok:\n",
    "\n",
    "- `!docker run --rm -i mtaril/emtsv:latest`: Az *e-magyar* futtatása\n",
    "- `tok,morph,pos,ner`: a használt modulok felsorolása\n",
    "    - `tok`: tokenizálás\n",
    "    - `morph`: morfológiai elemzés\n",
    "    - `pos`: szófaji egyértelműsítés\n",
    "    - `ner`: névelem felismerés\n",
    "- `<orkeny.txt`: Az elemzendő szöveg beolvasása az *orkeny.txt* fájlból.\n",
    "- `>orkeny.tsv`: Az elemzés kiírása az *orkeny.tsv* fájlba."
   ]
  },
  {
   "cell_type": "markdown",
   "id": "273e184e",
   "metadata": {},
   "source": [
    "## 2. Az elemzés beolvasása *pandas DataFrame*-be"
   ]
  },
  {
   "cell_type": "code",
   "execution_count": null,
   "id": "f2208f5f",
   "metadata": {},
   "outputs": [],
   "source": [
    "import pandas as pd\n",
    "\n",
    "df = pd.read_csv('orkeny.tsv', sep='\\t', dtype=str, keep_default_na=False)\n",
    "df.head(50)"
   ]
  },
  {
   "cell_type": "markdown",
   "id": "sweet-disclosure",
   "metadata": {},
   "source": [
    "Oszlopok:\n",
    "\n",
    "- *form*: A tokenizáló modul (*tok*) kimenete. A szövegben található tokeneket (szóalakokat, írásjeleket) tartalmazza.\n",
    "- *wsafter*: Szintén a tokenizáló kimenete. A tokenek után található *whitespace* karaktereket tartalmazza.\n",
    "- *anas*: A morfológiai elemző kimenete (*morph*). Szögletes zárójelpáron belül tartalmazza a lehetséges morfológiai elemzések listáját. Használt morfológiai kódok leírása [itt](https://e-magyar.hu/hu/textmodules/emmorph_codelist).\n",
    "- *lemma*: A szófaji egyértelműsítő kimenete (*pos*). A legvalószínűbb morfológiai elemzéshez tartozó lemmát tartalmazza. \n",
    "- *xpostag*: Szintén a szófaji egyértelműsítő kimenete (*pos*). A legvalószínűbb morfológiai elemzést tartalmazza. \n",
    "- *NER-BIO*: A tulajdonnév felismerő modul kimenete (*ner*). Leírása [itt](https://e-magyar.hu/hu/textmodules/emner)."
   ]
  },
  {
   "cell_type": "markdown",
   "id": "applied-invitation",
   "metadata": {},
   "source": [
    "## 3. Elemzesek\n",
    "\n",
    "\n",
    "### 3.1. Felhasználási esetek\n",
    "\n",
    "#### Feladatok, amikhez egyszerre elég egy sort (*row*) figyelembe venni\n",
    "\n",
    "- Szűrni bizonyos pos-tagekre, pl. keressük a múltidejű igéket.\n",
    "- Adott lemmahalmaz múltidejű előfordulásai.\n",
    "- Több morfológiai jegy figyelembevétele: pl. adott lemmahalmaz múltidejű előfordulásai egyeszám elsőszemélyben ill. többesszám elsőszemélyben.\n",
    "\n",
    "A végén számolni kéne ezeket: az összes tokenszámhoz, vagy szószámhoz, vagy az összes igéhez képest milyen arányban fordulnak elő ezek az alakok.\n",
    "\n",
    "#### Feladatok, amikhez több sort kell figyelembe venni\n",
    "\n",
    "- Van-e személyes névmás az ige mellett? Pl. \"éldegéltem\" vs. \"én éldegéltem\".\n",
    "- Főnévnek van-e jelzője?\n",
    "- Igének van-e határozószava?\n",
    "- Tagmondat szintű elemzés: keressük azon tagmondatokat, amikben van kötőszó, de nincs múltidejű igealak.\n",
    "\n",
    "Ezeket megint arányítani kell: az összes főnévből mennyinek van jelzője, az összes igéből mennyinek van határozója.\n",
    "\n",
    "#### Feladatok, amikhez az eredeti szöveget kell módosítani\n",
    "\n",
    "- Potenciálisan többszavas kifejezések keresése ([emterm](https://github.com/dlt-rilmta/emterm)!).\n",
    "- Szövegbe visszaírni elemzések eredményét XML-szerűen, pl. <érzelmi_kifejezés>...</érzelmi_kifejezés>"
   ]
  },
  {
   "cell_type": "markdown",
   "id": "d3102fa8",
   "metadata": {},
   "source": [
    "### 3.2. Egy soros feladatok megoldása"
   ]
  },
  {
   "cell_type": "code",
   "execution_count": null,
   "id": "deadly-veteran",
   "metadata": {},
   "outputs": [],
   "source": [
    "# multideju igek aranya\n",
    "\n",
    "def is_not_punct(row):\n",
    "    pos = row['xpostag']\n",
    "    return not pos.startswith('[Punct]')\n",
    "\n",
    "def is_verb(row):\n",
    "    pos = row['xpostag']\n",
    "    return pos.startswith('[/V]')\n",
    "\n",
    "def is_past_verb(row):\n",
    "    pos = row['xpostag']\n",
    "    return pos.startswith('[/V][Pst.')\n",
    "\n",
    "mask0 = df.apply(is_not_punct, axis=1)\n",
    "mask1 = df.apply(is_verb, axis=1)\n",
    "mask2 = df.apply(is_past_verb, axis=1)\n",
    "\n",
    "count_word = len(df[mask0])\n",
    "count_verb = len(df[mask1])\n",
    "count_past_verb = len(df[mask2])\n",
    "\n",
    "print('multideju igek / osszes token: ', count_past_verb/len(df))\n",
    "print('multideju igek / osszes szo: ', count_past_verb/count_word)\n",
    "print('multideju igek / osszes ige: ', count_past_verb/count_verb)\n",
    "df[mask1]"
   ]
  },
  {
   "cell_type": "code",
   "execution_count": null,
   "id": "blind-breakdown",
   "metadata": {},
   "outputs": [],
   "source": [
    "# egyesszam 3. szemelyu igek\n",
    "\n",
    "def is_3sg_verb(row):\n",
    "    pos = row['xpostag']\n",
    "    return pos.startswith('[/V]') and '3Sg' in pos\n",
    "\n",
    "mask3 = df.apply(is_3sg_verb, axis=1)\n",
    "\n",
    "count_3sg_verb = len(df[mask3])\n",
    "\n",
    "print('3sg igek / osszes token: ', count_3sg_verb/len(df))\n",
    "print('3sg igek / osszes szo: ', count_3sg_verb/count_word)\n",
    "print('3sg igek / osszes ige: ', count_3sg_verb/count_verb)\n",
    "df[mask3]"
   ]
  },
  {
   "cell_type": "code",
   "execution_count": null,
   "id": "3df5d218",
   "metadata": {},
   "outputs": [],
   "source": [
    "# adott lemmahalmaz keresése\n",
    "\n",
    "def is_lemma_in_set(row):\n",
    "    lemma = row['lemma']\n",
    "    lemmaset = {'iszik', 'van'}\n",
    "    return lemma in lemmaset\n",
    "\n",
    "mask4 = df.apply(is_lemma_in_set, axis=1)\n",
    "\n",
    "count_lemmaset = len(df[mask4])\n",
    "\n",
    "print('halmazban levo igek / osszes token: ', count_lemmaset/len(df))\n",
    "print('halmazban levo igek / osszes szo: ', count_lemmaset/count_word)\n",
    "print('halmazban levo igek / osszes ige: ', count_lemmaset/count_verb)\n",
    "\n",
    "df[mask4]"
   ]
  },
  {
   "cell_type": "markdown",
   "id": "f1e68491",
   "metadata": {},
   "source": [
    "### 3.3. Több soros feladatok megoldása\n",
    "\n",
    "Egy *DataFrame* sorain az [`.iterrows()`](https://pandas.pydata.org/pandas-docs/stable/reference/api/pandas.DataFrame.iterrows.html) metódust használva iterálhatunk. A metódus minden sort egy *tuple*-ként ad vissza, aminek az első eleme az *index* (sorszám), a második a sor maga, mint [*Series*](https://pandas.pydata.org/pandas-docs/stable/reference/api/pandas.Series.html#pandas.Series)."
   ]
  },
  {
   "cell_type": "code",
   "execution_count": null,
   "id": "f9132a65",
   "metadata": {},
   "outputs": [],
   "source": [
    "# Van-e névelő a főnév előtt?\n",
    "\n",
    "def is_noun(row):\n",
    "    return row['xpostag'].startswith('[/N')\n",
    "\n",
    "mask5 = df.apply(is_noun, axis=1)\n",
    "\n",
    "mask6 = []\n",
    "is_prev_article = False\n",
    "for index, row in df.iterrows():\n",
    "    is_noun = row['xpostag'].startswith('[/N')\n",
    "    mask6.append(is_noun and is_prev_article)\n",
    "    is_prev_article = row['xpostag'] in {'[/Det|Art.Def]', '[/Det|Art.NDef]'}\n",
    "\n",
    "print('névelős főnév / összes főnév: ', len(df[mask6])/len(df[mask5]))\n",
    "    \n",
    "#df['noun_with_article'] = mask5\n",
    "#df.head(50)\n",
    "df[mask5]"
   ]
  },
  {
   "cell_type": "markdown",
   "id": "899448d8",
   "metadata": {},
   "source": [
    "### 3.4. Elemzés visszaírása az eredeti szövegbe"
   ]
  },
  {
   "cell_type": "code",
   "execution_count": null,
   "id": "3a15ac7a",
   "metadata": {},
   "outputs": [],
   "source": [
    "# eredeti szöveg kiírása\n",
    "text = []\n",
    "for index, row in df.iterrows():\n",
    "    text.append(row['form'] + row['wsafter'])\n",
    "text = ''.join(text)\n",
    "text = text.replace('\\\\n', '\\n')\n",
    "print(text)"
   ]
  },
  {
   "cell_type": "code",
   "execution_count": null,
   "id": "6ebf2ff0",
   "metadata": {},
   "outputs": [],
   "source": [
    "# NER-BIO oszlop xml-esítése\n",
    "text = []\n",
    "for index, row in df.iterrows():\n",
    "    form = row['form']\n",
    "    ws = row['wsafter']\n",
    "    ner = row['NER-BIO']\n",
    "    if ner.startswith('B'):\n",
    "        # named entity kezdodik, xml tag-et nyitunk:\n",
    "        form = f'<{ner[2:]}>{form}'\n",
    "    elif ner.startswith('E'):\n",
    "        # named entity vegzodik, xml tag-et zarunk:\n",
    "        form = f'{form}</{ner[2:]}>'\n",
    "    elif ner.startswith('1'):\n",
    "        # egy elemu named entity, xml tag-ebe tesszuk:\n",
    "        form = f'<{ner[2:]}>{form}</{ner[2:]}>'\n",
    "    text.append(form+ws)\n",
    "text = ''.join(text)\n",
    "text = text.replace('\\\\n', '\\n')\n",
    "print(text)\n"
   ]
  }
 ],
 "metadata": {
  "kernelspec": {
   "display_name": "Python 3",
   "language": "python",
   "name": "python3"
  },
  "language_info": {
   "codemirror_mode": {
    "name": "ipython",
    "version": 3
   },
   "file_extension": ".py",
   "mimetype": "text/x-python",
   "name": "python",
   "nbconvert_exporter": "python",
   "pygments_lexer": "ipython3",
   "version": "3.9.5"
  }
 },
 "nbformat": 4,
 "nbformat_minor": 5
}
