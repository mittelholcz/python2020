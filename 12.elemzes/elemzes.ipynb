{
 "cells": [
  {
   "cell_type": "markdown",
   "id": "d51cbb52",
   "metadata": {},
   "source": [
    "# e-magyar elemzés\n",
    "\n",
    "---\n",
    "\n",
    "(2021. 04. 16.)\n",
    "\n",
    "Mittelholcz Iván"
   ]
  },
  {
   "cell_type": "markdown",
   "id": "dfc0ffdb",
   "metadata": {},
   "source": [
    "## 1. Az e-magyar használata"
   ]
  },
  {
   "cell_type": "markdown",
   "id": "628a9746",
   "metadata": {},
   "source": [
    "Az elemzendő szöveg:"
   ]
  },
  {
   "cell_type": "code",
   "execution_count": null,
   "id": "d50f5231",
   "metadata": {},
   "outputs": [],
   "source": [
    "!cat orkeny.txt"
   ]
  },
  {
   "cell_type": "markdown",
   "id": "d61fa72b",
   "metadata": {},
   "source": [
    "Az e-magyar legfrissebb verziójának letöltése:"
   ]
  },
  {
   "cell_type": "code",
   "execution_count": null,
   "id": "00697f28",
   "metadata": {},
   "outputs": [],
   "source": [
    "!docker pull mtaril/emtsv:latest"
   ]
  },
  {
   "cell_type": "markdown",
   "id": "7ccb0fff",
   "metadata": {},
   "source": [
    "Az *orkeny.txt* elemzése, az eredmény kiírása az *orkény.tsv* fájlba:"
   ]
  },
  {
   "cell_type": "code",
   "execution_count": null,
   "id": "cb357cfb",
   "metadata": {},
   "outputs": [],
   "source": [
    "!docker run --rm -i mtaril/emtsv:latest tok,morph,pos,ner <orkeny.txt >orkeny.tsv"
   ]
  },
  {
   "cell_type": "markdown",
   "id": "0d720364",
   "metadata": {},
   "source": [
    "Magyarázatok:\n",
    "\n",
    "- `!docker run --rm -i mtaril/emtsv:latest`: Az *e-magyar* futtatása\n",
    "- `tok,morph,pos,ner`: a használt modulok felsorolása\n",
    "    - `tok`: tokenizálás\n",
    "    - `morph`: morfológiai elemzés\n",
    "    - `pos`: szófaji egyértelműsítés\n",
    "    - `ner`: névelem felismerés\n",
    "- `<orkeny.txt`: Az elemzendő szöveg beolvasása az *orkeny.txt* fájlból.\n",
    "- `>orkeny.tsv`: Az elemzés kiírása az *orkeny.tsv* fájlba."
   ]
  },
  {
   "cell_type": "markdown",
   "id": "273e184e",
   "metadata": {},
   "source": [
    "## 2. Az elemzés beolvasása *pandas DataFrame*-be\n",
    "\n",
    "A TSV fájl beolvasásánál használt új paraméterek:\n",
    "\n",
    "- `dtype=str`: A stringet tartalmazó cellákat alapból is stringnek szokta értelmezni a pandas, de ha biztosra akarunk menni, nem árt, ha kifejezetten megkérjük erre.\n",
    "- `keep_default_na=False`: Ha ezt *False*-ra állítjuk, meghagyja az üres stringeket üres stringeknek és nem fogja azokat *NaN*-ként értelmezni. Ez a *wsafter* sor helyes beolvasásához kell.\n",
    "- `skip_blank_lines=False`: A *Pandas* alapból átugorja az üres sorokat. Az e-magyar viszont az üres sorokat használja a mondatok elhatárolására, ezért meg kell mondani a *Pandas*-nak, hogy ne dobja ki az üres sorokat.\n",
    "\n",
    "Részleteket a `df.read_csv()` [dokumentációjában](https://pandas.pydata.org/pandas-docs/stable/reference/api/pandas.read_csv.html)."
   ]
  },
  {
   "cell_type": "code",
   "execution_count": null,
   "id": "f2208f5f",
   "metadata": {},
   "outputs": [],
   "source": [
    "import pandas as pd\n",
    "\n",
    "df = pd.read_csv('orkeny.tsv', sep='\\t', dtype=str, keep_default_na=False, skip_blank_lines=False)\n",
    "df.head(50)"
   ]
  },
  {
   "cell_type": "markdown",
   "id": "sweet-disclosure",
   "metadata": {},
   "source": [
    "Oszlopok:\n",
    "\n",
    "- *form*: A tokenizáló modul (*tok*) kimenete. A szövegben található tokeneket (szóalakokat, írásjeleket) tartalmazza.\n",
    "- *wsafter*: Szintén a tokenizáló kimenete. A tokenek után található *whitespace* karaktereket tartalmazza.\n",
    "- *anas*: A morfológiai elemző kimenete (*morph*). Szögletes zárójelpáron belül tartalmazza a lehetséges morfológiai elemzések listáját. Használt morfológiai kódok leírása [itt](https://e-magyar.hu/hu/textmodules/emmorph_codelist).\n",
    "- *lemma*: A szófaji egyértelműsítő kimenete (*pos*). A legvalószínűbb morfológiai elemzéshez tartozó lemmát tartalmazza. \n",
    "- *xpostag*: Szintén a szófaji egyértelműsítő kimenete (*pos*). A legvalószínűbb morfológiai elemzést tartalmazza. \n",
    "- *NER-BIO*: A tulajdonnév felismerő modul kimenete (*ner*). Leírása [itt](https://e-magyar.hu/hu/textmodules/emner)."
   ]
  },
  {
   "cell_type": "markdown",
   "id": "applied-invitation",
   "metadata": {},
   "source": [
    "## 3. Elemzesek\n",
    "\n",
    "\n",
    "### 3.1. Felhasználási esetek\n",
    "\n",
    "#### Feladatok, amikhez egyszerre elég egy sort (*row*) figyelembe venni\n",
    "\n",
    "- Szűrni bizonyos pos-tagekre, pl. keressük a múltidejű igéket.\n",
    "- Adott lemmahalmaz múltidejű előfordulásai.\n",
    "- Több morfológiai jegy figyelembevétele: pl. adott lemmahalmaz múltidejű előfordulásai egyeszám elsőszemélyben ill. többesszám elsőszemélyben.\n",
    "\n",
    "A végén számolni kéne ezeket: az összes tokenszámhoz, vagy szószámhoz, vagy az összes igéhez képest milyen arányban fordulnak elő ezek az alakok.\n",
    "\n",
    "#### Feladatok, amikhez több sort kell figyelembe venni\n",
    "\n",
    "- Van-e személyes névmás az ige mellett? Pl. \"éldegéltem\" vs. \"én éldegéltem\".\n",
    "- Főnévnek van-e jelzője?\n",
    "- Igének van-e határozószava?\n",
    "- Tagmondat szintű elemzés: keressük azon tagmondatokat, amikben van kötőszó, de nincs múltidejű igealak.\n",
    "\n",
    "Ezeket megint arányítani kell: az összes főnévből mennyinek van jelzője, az összes igéből mennyinek van határozója.\n",
    "\n",
    "#### Feladatok, amikhez az eredeti szöveget kell módosítani\n",
    "\n",
    "- Potenciálisan többszavas kifejezések keresése ([emterm](https://github.com/dlt-rilmta/emterm)!).\n",
    "- Szövegbe visszaírni elemzések eredményét XML-szerűen, pl. <érzelmi_kifejezés>...</érzelmi_kifejezés>"
   ]
  },
  {
   "cell_type": "markdown",
   "id": "d3102fa8",
   "metadata": {},
   "source": [
    "### 3.2. Egy soros feladatok megoldása"
   ]
  },
  {
   "cell_type": "code",
   "execution_count": null,
   "id": "deadly-veteran",
   "metadata": {},
   "outputs": [],
   "source": [
    "# multideju igek aranya\n",
    "\n",
    "def is_not_punct(row):\n",
    "    pos = row['xpostag']\n",
    "    return not pos.startswith('[Punct]')\n",
    "\n",
    "def is_verb(row):\n",
    "    pos = row['xpostag']\n",
    "    return pos.startswith('[/V]')\n",
    "\n",
    "def is_past_verb(row):\n",
    "    pos = row['xpostag']\n",
    "    return pos.startswith('[/V][Pst.')\n",
    "\n",
    "mask0 = df.apply(is_not_punct, axis=1)\n",
    "mask1 = df.apply(is_verb, axis=1)\n",
    "mask2 = df.apply(is_past_verb, axis=1)\n",
    "\n",
    "count_word = len(df[mask0])\n",
    "count_verb = len(df[mask1])\n",
    "count_past_verb = len(df[mask2])\n",
    "\n",
    "print('multideju igek / osszes token: ', count_past_verb/len(df))\n",
    "print('multideju igek / osszes szo: ', count_past_verb/count_word)\n",
    "print('multideju igek / osszes ige: ', count_past_verb/count_verb)\n",
    "df[mask2]"
   ]
  },
  {
   "cell_type": "code",
   "execution_count": null,
   "id": "blind-breakdown",
   "metadata": {},
   "outputs": [],
   "source": [
    "# egyesszam 3. szemelyu igek\n",
    "\n",
    "def is_3sg_verb(row):\n",
    "    pos = row['xpostag']\n",
    "    return pos.startswith('[/V]') and '3Sg' in pos\n",
    "\n",
    "mask3 = df.apply(is_3sg_verb, axis=1)\n",
    "\n",
    "count_3sg_verb = len(df[mask3])\n",
    "\n",
    "print('3sg igek / osszes token: ', count_3sg_verb/len(df))\n",
    "print('3sg igek / osszes szo: ', count_3sg_verb/count_word)\n",
    "print('3sg igek / osszes ige: ', count_3sg_verb/count_verb)\n",
    "df[mask3]"
   ]
  },
  {
   "cell_type": "code",
   "execution_count": null,
   "id": "3df5d218",
   "metadata": {},
   "outputs": [],
   "source": [
    "# adott lemmahalmaz keresése\n",
    "\n",
    "def is_lemma_in_set(row):\n",
    "    lemma = row['lemma']\n",
    "    lemmaset = {'iszik', 'van'}\n",
    "    pos = row['xpostag']\n",
    "    is_in_lemmaset = lemma in lemmaset\n",
    "    is_3sg = '3Sg' in pos\n",
    "    return is_in_lemmaset and is_3sg\n",
    "\n",
    "mask4 = df.apply(is_lemma_in_set, axis=1)\n",
    "\n",
    "count_lemmaset = len(df[mask4])\n",
    "\n",
    "print('halmazban levo igek / osszes token: ', count_lemmaset/len(df))\n",
    "print('halmazban levo igek / osszes szo: ', count_lemmaset/count_word)\n",
    "print('halmazban levo igek / osszes ige: ', count_lemmaset/count_verb)\n",
    "\n",
    "df[mask4]"
   ]
  },
  {
   "cell_type": "markdown",
   "id": "fb7aae5b",
   "metadata": {},
   "source": [
    "### 3.3. Több soros feladatok megoldása\n",
    "\n",
    "Algoritmus: Ha csak egy elem távolságba kell ellátni, akkor érdemes egy segédváltozóban eltárolni a ciklus előző elemének az értékét, vagy a vele kapcsolatos feltétel értékét."
   ]
  },
  {
   "cell_type": "code",
   "execution_count": null,
   "id": "70eaf370",
   "metadata": {},
   "outputs": [],
   "source": [
    "# Rávezetés 1.: Keressük a maganhángzóval kezdődő gyümölcsöket.\n",
    "# elvárt eredmény: ['alma', 'eper']\n",
    "l = ['alma', 'barack', 'citrom', 'dinnye', 'eper', 'füge']\n",
    "\n",
    "result = []\n",
    "for word in l:\n",
    "    if word[0] in {'a', 'e', 'i', 'o', 'u'}:\n",
    "        result.append(word)\n",
    "print(result)"
   ]
  },
  {
   "cell_type": "code",
   "execution_count": null,
   "id": "93e63c59",
   "metadata": {},
   "outputs": [],
   "source": [
    "# Rávezetés 2.: Menjünk végig egy listán úgy, hogy az aktuális elem mellett írjuk ki az előzőt is.\n",
    "# Az első sorban az előző elem hiányozni fog.\n",
    "l = ['alma', 'barack', 'citrom', 'dinnye', 'eper', 'füge']\n",
    "\n",
    "previous = ''\n",
    "for current in l:\n",
    "    print(previous, current)\n",
    "    previous = current # a ciklusmag végén mindig frissítjük az előző elemet az aktuálissal"
   ]
  },
  {
   "cell_type": "code",
   "execution_count": null,
   "id": "0a72ae80",
   "metadata": {},
   "outputs": [],
   "source": [
    "# Rávezetés 3.: Keressük azokat a gyümölcsöket, amik magánhangzóval kezdődő gyümölcs után következnek.\n",
    "# elvárt eredmény: ['barack', 'fuge']\n",
    "# A segédváltozóban nem az előző elemet tároljuk, csak azt, hogy az előző elem magánhangzóval kezdődőtt-e.\n",
    "\n",
    "l = ['alma', 'barack', 'citrom', 'dinnye', 'eper', 'füge']\n",
    "\n",
    "result = []\n",
    "previous_startswith_vowel = False\n",
    "for current in l:\n",
    "    if previous_startswith_vowel:\n",
    "        result.append(current)\n",
    "    previous_startswith_vowel = current[0] in {'a', 'e', 'i', 'o', 'u'}\n",
    "print(result)"
   ]
  },
  {
   "cell_type": "markdown",
   "id": "dcce2467",
   "metadata": {},
   "source": [
    "Hogy a fentieket alkalmazni tudjuk *DataFrame* esetében is, ahhoz végig kell tudnunk iterálni a *DataFrame* sorain. Ezt az [`.iterrows()`](https://pandas.pydata.org/pandas-docs/stable/reference/api/pandas.DataFrame.iterrows.html) metódust használva tudjuk megtenni. A metódus minden sort egy *tuple*-ként ad vissza, aminek az első eleme az *index* (sorszám), a második a sor maga, mint [*Series*](https://pandas.pydata.org/pandas-docs/stable/reference/api/pandas.Series.html#pandas.Series)."
   ]
  },
  {
   "cell_type": "code",
   "execution_count": null,
   "id": "b769c8a4",
   "metadata": {},
   "outputs": [],
   "source": [
    "# Van-e névelő a főnév előtt?\n",
    "\n",
    "def is_noun(row):\n",
    "    return row['xpostag'].startswith('[/N')\n",
    "\n",
    "mask5 = df.apply(is_noun, axis=1)\n",
    "\n",
    "mask6 = []\n",
    "is_prev_article = False\n",
    "for index, row in df.iterrows():\n",
    "    is_current_noun = row['xpostag'].startswith('[/N')\n",
    "    mask6.append(is_current_noun and is_prev_article)\n",
    "    is_prev_article = row['xpostag'] in {'[/Det|Art.Def]', '[/Det|Art.NDef]'}\n",
    "\n",
    "print('névelős főnév / összes főnév: ', len(df[mask6])/len(df[mask5]))\n",
    "    \n",
    "#df['noun_with_article'] = mask5\n",
    "#df.head(50)\n",
    "df[mask6]"
   ]
  },
  {
   "cell_type": "markdown",
   "id": "146a0648",
   "metadata": {},
   "source": [
    "Algoritmus: Ha nem csak a szomszédos elemet kell látnunk, hanem elemet is, akkor érdemes egy *ablakkal* (*frame*-mel) végigmenni a listán."
   ]
  },
  {
   "cell_type": "code",
   "execution_count": null,
   "id": "93d88b95",
   "metadata": {},
   "outputs": [],
   "source": [
    "# Rávezetés 1.: Menjünk végig egy 3 elemet tartalmazó ablakkal a listán.\n",
    "\n",
    "l = ['alma', 'barack', 'citrom', 'dinnye', 'eper', 'füge']\n",
    "\n",
    "length = 3\n",
    "frame = []\n",
    "\n",
    "for i in l:\n",
    "    frame.append(i)\n",
    "    if len(frame) < length: # meg tul rovid a frame\n",
    "        continue\n",
    "    if len(frame) > length: # mar tul hosszu a frame\n",
    "        frame.pop(0)\n",
    "    print(frame)"
   ]
  },
  {
   "cell_type": "code",
   "execution_count": null,
   "id": "b5b9fa44",
   "metadata": {},
   "outputs": [],
   "source": [
    "# Rávezetés 2.: Ál-elemekkel kiegészített lista.\n",
    "# Ha a frame-ek első elemei vizsgáljuk (mert arra vagyunk kíváncsiak, van-e utána olyan, ami érdekes),\n",
    "# akkor a fenti módon sosem jutunk oda, hogy az 'eper' vagy a 'füge' első elem legyen.\n",
    "# Ha a frame-ek utolsó elemeit vizsgáljuk (mert arra vagyunk kíváncsiak, van-e előtte olyan, ami érdekes),\n",
    "# akkor a fenti módon sosem jutunk oda, hogy az 'alma' vagy a 'barack' utolsó elem legyen.\n",
    "# Az első esetben a lista végét kell kiegészíteni álelemekkel (None),\n",
    "# a második esetben a lista elejére kell álelemeket beszúrni.\n",
    "\n",
    "\n",
    "l = ['alma', 'barack', 'citrom', 'dinnye', 'eper', 'füge']\n",
    "\n",
    "# álelemek a lista végén\n",
    "length = 3\n",
    "frame = []\n",
    "\n",
    "for i in l + [None]*(length-1):\n",
    "    frame.append(i)\n",
    "    if len(frame) < length: # meg tul rovid a frame\n",
    "        continue\n",
    "    if len(frame) > length: # mar tul hosszu a frame\n",
    "        frame.pop(0)\n",
    "    print(frame)\n",
    "\n",
    "print('--------')\n",
    "\n",
    "# álelemek a lista elején\n",
    "length = 3\n",
    "frame = []\n",
    "\n",
    "for i in [None]*(length-1) + l:\n",
    "    frame.append(i)\n",
    "    if len(frame) < length: # meg tul rovid a frame\n",
    "        continue\n",
    "    if len(frame) > length: # mar tul hosszu a frame\n",
    "        frame.pop(0)\n",
    "    print(frame)"
   ]
  },
  {
   "cell_type": "code",
   "execution_count": null,
   "id": "a64bbf04",
   "metadata": {},
   "outputs": [],
   "source": [
    "# Rávezetés 3.: Keressük azokat az elemeket, amik után az első vagy második elem magánhangzóval kezdődik.\n",
    "# Az aktuális elemtől jobbra keresünk bizonyos tulajdonságú elemeket --> a listát jobbról egészítjük ki álelemekkel.\n",
    "\n",
    "l = ['alma', 'barack', 'citrom', 'dinnye', 'eper', 'füge']\n",
    "\n",
    "length = 3\n",
    "frame = []\n",
    "vowels = {'a', 'e', 'i', 'o', 'u'}\n",
    "\n",
    "result = []\n",
    "for i in l + [None] * (length -1):\n",
    "    frame.append(i)\n",
    "    if len(frame) < length:\n",
    "        continue\n",
    "    if len(frame) > length:\n",
    "        frame.pop(0)\n",
    "    for x in frame[1:]:\n",
    "        if x is None: # ha None-ba botlunk, akkor skippeljük\n",
    "            continue\n",
    "        if x[0] in vowels:\n",
    "            result.append(frame[0])\n",
    "        \n",
    "print(result)"
   ]
  },
  {
   "cell_type": "code",
   "execution_count": null,
   "id": "80501351",
   "metadata": {},
   "outputs": [],
   "source": [
    "# Feladat: keressük az igekötők után lévő igéket.\n",
    "# Az eredményből csak az ('El', 'patkoltak') pár lesz a jó. Finomítás később.\n",
    "\n",
    "length = 10\n",
    "frame = []\n",
    "result = []\n",
    "mylist = [row for index, row in df.iterrows()] + [None] * (length - 1)\n",
    "\n",
    "# vegigmegyunk az álelemekkel kiegészített sorokon\n",
    "for row in mylist:\n",
    "    # frissitjuk a frame-et\n",
    "    frame.append(row)\n",
    "    if len(frame) < length:\n",
    "        continue\n",
    "    if len(frame) > length:\n",
    "        frame.pop(0)\n",
    "    # igekoto-e az elso elem? Ha igen, akkor megnezzuk, hogy utana valamelyik szo ige-e\n",
    "    if frame[0]['xpostag'] == '[/Prev]':\n",
    "        for frow in frame[1:]: # A frame-beli sorokat frow-nak nevezzuk el.\n",
    "            if frow is None:\n",
    "                continue\n",
    "            if frow['xpostag'].startswith('[/V]'):\n",
    "                # iget talaltunk, igekotot + iget hozzaadjuk az eredmenyhez\n",
    "                result.append((frame[0]['form'], frow['form']))\n",
    "                break # megvan az ige, abbahagyjuk a keresest\n",
    "print(result)"
   ]
  },
  {
   "cell_type": "code",
   "execution_count": null,
   "id": "bc1c9255",
   "metadata": {},
   "outputs": [],
   "source": [
    "# Finomítás: Mondathatár után ne keressünk igét, mert az biztos nem az előző mondat igekötőjéhez fog tartozni.\n",
    "# A mondathatárt a TSV üres sora jelöli. Ez a dataframe-ben olyan sor lesz, amiben minden cella egy üres string.\n",
    "# (Elég a \"form\" cellát ellenőrizni, az nem lehet üres.)\n",
    "# Az eredményekből a ('meg', 'akadt') pár még mindig rossz. Ezt a frame rövidebbre vételével lehet kiszűrni.\n",
    "\n",
    "length = 10\n",
    "frame = []\n",
    "result = []\n",
    "mylist = [row for index, row in df.iterrows()] + [None] * (length - 1)\n",
    "\n",
    "# vegigmegyunk az álelemekkel kiegészített sorokon\n",
    "for row in mylist:\n",
    "    # frissitjuk a frame-et\n",
    "    frame.append(row)\n",
    "    if len(frame) < length:\n",
    "        continue\n",
    "    if len(frame) > length:\n",
    "        frame.pop(0)\n",
    "    # igekoto-e az elso elem? Ha igen, akkor megnezzuk, hogy utana valamelyik szo ige-e\n",
    "    if frame[0]['xpostag'] == '[/Prev]':\n",
    "        for frow in frame[1:]:\n",
    "            if frow is None:\n",
    "                continue\n",
    "            # Mondathatár vizsgálata: ha a form nem tartalmaz semmit, akkor utána új mondat jön.\n",
    "            if len(frow['form']) == 0:\n",
    "                break\n",
    "            if frow['xpostag'].startswith('[/V]'):\n",
    "                # iget talaltunk, igekotot + iget hozzaadjuk az eredmenyhez\n",
    "                result.append((frame[0]['form'], frow['form']))\n",
    "                break # megvan az ige, abbahagyjuk a keresest\n",
    "print(result)"
   ]
  },
  {
   "cell_type": "code",
   "execution_count": null,
   "id": "359a301d",
   "metadata": {},
   "outputs": [],
   "source": [
    "# Finomítás: A feladat ugyan az, mint az elobb, de most uj oszlopot csinalunk a dataframe-nek.\n",
    "# Az uj oszlop default egy kotojelet tartalmaz, de az igekotoknel a feltetelezett iget irjuk bele.\n",
    "\n",
    "length = 3\n",
    "frame = []\n",
    "result = []\n",
    "mylist = [row for i, row in df.iterrows()] + [None] * (length - 1)\n",
    "\n",
    "for row in mylist:\n",
    "    frame.append(row)\n",
    "    if len(frame) < length:\n",
    "        continue\n",
    "    if len(frame) > length:\n",
    "        frame.pop(0)\n",
    "    res = '-'\n",
    "    if frame[0]['xpostag'] == '[/Prev]':\n",
    "        for frow in frame[1:]:\n",
    "            if frow is None:\n",
    "                continue\n",
    "            if len(frow['form']) == 0:\n",
    "                continue\n",
    "            if frow['xpostag'].startswith('[/V]'):\n",
    "                res = frow['lemma']\n",
    "                break\n",
    "    result.append(res)\n",
    "\n",
    "df['preverb'] = result\n",
    "# kiirjuk a kerdeses reszt\n",
    "df.iloc[120:128, :]"
   ]
  },
  {
   "cell_type": "markdown",
   "id": "0d4630c6",
   "metadata": {},
   "source": [
    "### 3.4. Elemzés visszaírása az eredeti szövegbe"
   ]
  },
  {
   "cell_type": "code",
   "execution_count": null,
   "id": "f4c08e22",
   "metadata": {},
   "outputs": [],
   "source": [
    "# eredeti szöveg kiírása:\n",
    "# - minden sor 'form' és 'wsafter' celláját összeragasztjuk és hozzáadjuk ez eredmény listához\n",
    "# - az eredmény lista elemeit a join metódussal egyesítjük egyetlen szöveggé\n",
    "# - a szövegben lévő '\\\\n'-eket lecseréljük igazi sortörésekre \n",
    "\n",
    "text = []\n",
    "for index, row in df.iterrows():\n",
    "    text.append(row['form'] + row['wsafter'])\n",
    "text = ''.join(text)\n",
    "text = text.replace('\\\\n', '\\n')\n",
    "print(text)"
   ]
  },
  {
   "cell_type": "code",
   "execution_count": null,
   "id": "a2e61310",
   "metadata": {},
   "outputs": [],
   "source": [
    "# Feladat: NER-BIO oszlop xml-esítése.\n",
    "# Itt is a form és wsafter cellákat ragasztjuk össze és adjuk egy listához, de nézzük a ner cellákat is.\n",
    "# - ha egy ner cella B-vel kezdődik (pl. B-ORG), akkor nyitunk egy <ORG> címkét és csak utána írjuk a form cellát.\n",
    "# - ha egy ner cella E-vel kezdődik (pl. E-ORG), akkor a form cella után lezárjuk a címkét (</ORG>)\n",
    "# - a szövegben nincs példa az egy elemű címkékre (pl. 1-ORG), de azt is kezeljük\n",
    "\n",
    "text = []\n",
    "for index, row in df.iterrows():\n",
    "    form = row['form']\n",
    "    ws = row['wsafter']\n",
    "    ner = row['NER-BIO']\n",
    "    if ner.startswith('B'):\n",
    "        # named entity kezdodik, xml tag-et nyitunk:\n",
    "        form = f'<{ner[2:]}>{form}'\n",
    "    elif ner.startswith('E'):\n",
    "        # named entity vegzodik, xml tag-et zarunk:\n",
    "        form = f'{form}</{ner[2:]}>'\n",
    "    elif ner.startswith('1'):\n",
    "        # egy elemu named entity, xml tag-ebe tesszuk:\n",
    "        form = f'<{ner[2:]}>{form}</{ner[2:]}>'\n",
    "    text.append(form+ws)\n",
    "text = ''.join(text)\n",
    "text = text.replace('\\\\n', '\\n')\n",
    "print(text)\n"
   ]
  }
 ],
 "metadata": {
  "kernelspec": {
   "display_name": "Python 3",
   "language": "python",
   "name": "python3"
  },
  "language_info": {
   "codemirror_mode": {
    "name": "ipython",
    "version": 3
   },
   "file_extension": ".py",
   "mimetype": "text/x-python",
   "name": "python",
   "nbconvert_exporter": "python",
   "pygments_lexer": "ipython3",
   "version": "3.7.10"
  }
 },
 "nbformat": 4,
 "nbformat_minor": 5
}
