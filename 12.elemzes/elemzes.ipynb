{
 "cells": [
  {
   "cell_type": "markdown",
   "id": "d51cbb52",
   "metadata": {},
   "source": [
    "# e-magyar elemzés\n",
    "\n",
    "---\n",
    "\n",
    "(2021. 04. 16.)\n",
    "\n",
    "Mittelholcz Iván"
   ]
  },
  {
   "cell_type": "markdown",
   "id": "dfc0ffdb",
   "metadata": {},
   "source": [
    "## 1. Az e-magyar használata"
   ]
  },
  {
   "cell_type": "markdown",
   "id": "628a9746",
   "metadata": {},
   "source": [
    "Az elemzendő szöveg:"
   ]
  },
  {
   "cell_type": "code",
   "execution_count": null,
   "id": "d50f5231",
   "metadata": {},
   "outputs": [],
   "source": [
    "!cat orkeny.txt"
   ]
  },
  {
   "cell_type": "markdown",
   "id": "d61fa72b",
   "metadata": {},
   "source": [
    "Az e-magyar legfrissebb verziójának letöltése:"
   ]
  },
  {
   "cell_type": "code",
   "execution_count": null,
   "id": "00697f28",
   "metadata": {},
   "outputs": [],
   "source": [
    "!docker pull mtaril/emtsv:latest"
   ]
  },
  {
   "cell_type": "markdown",
   "id": "7ccb0fff",
   "metadata": {},
   "source": [
    "Az *orkeny.txt* elemzése, az eredmény kiírása az *orkény.tsv* fájlba:"
   ]
  },
  {
   "cell_type": "code",
   "execution_count": null,
   "id": "cb357cfb",
   "metadata": {},
   "outputs": [],
   "source": [
    "!docker run --rm -i mtaril/emtsv:latest tok,morph,pos,ner <orkeny.txt >orkeny.tsv"
   ]
  },
  {
   "cell_type": "markdown",
   "id": "0d720364",
   "metadata": {},
   "source": [
    "Magyarázatok:\n",
    "\n",
    "- `!docker run --rm -i mtaril/emtsv:latest`: Az *e-magyar* futtatása\n",
    "- `tok,morph,pos,ner`: a használt modulok felsorolása\n",
    "    - `tok`: tokenizálás\n",
    "    - `morph`: morfológiai elemzés\n",
    "    - `pos`: szófaji egyértelműsítés\n",
    "    - `ner`: névelem felismerés\n",
    "- `<orkeny.txt`: Az elemzendő szöveg beolvasása az *orkeny.txt* fájlból.\n",
    "- `>orkeny.tsv`: Az elemzés kiírása az *orkeny.tsv* fájlba."
   ]
  },
  {
   "cell_type": "markdown",
   "id": "273e184e",
   "metadata": {},
   "source": [
    "## 2. Az elemzés beolvasása *pandas DataFrame*-be"
   ]
  },
  {
   "cell_type": "code",
   "execution_count": null,
   "id": "f2208f5f",
   "metadata": {},
   "outputs": [],
   "source": [
    "import pandas as pd\n",
    "\n",
    "df = pd.read_csv('orkeny.tsv', sep='\\t')\n",
    "df"
   ]
  },
  {
   "cell_type": "markdown",
   "id": "sweet-disclosure",
   "metadata": {},
   "source": [
    "Oszlopok:\n",
    "\n",
    "- *form*: A tokenizáló modul (*tok*) kimenete. A szövegben található tokeneket (szóalakokat, írásjeleket) tartalmazza.\n",
    "- *wsafter*: Szintén a tokenizáló kimenete. A tokenek után található *whitespace* karaktereket tartalmazza.\n",
    "- *anas*: A morfológiai elemző kimenete (*morph*). Szögletes zárójelpáron belül tartalmazza a lehetséges morfológiai elemzések listáját. Használt morfológiai kódok leírása [itt](https://e-magyar.hu/hu/textmodules/emmorph_codelist).\n",
    "- *lemma*: A szófaji egyértelműsítő kimenete (*pos*). A legvalószínűbb morfológiai elemzéshez tartozó lemmát tartalmazza. \n",
    "- *xpostag*: Szintén a szófaji egyértelműsítő kimenete (*pos*). A legvalószínűbb morfológiai elemzést tartalmazza. \n",
    "- *NER-BIO*: A tulajdonnév felismerő modul kimenete (*ner*). Leírása [itt](https://e-magyar.hu/hu/textmodules/emner)."
   ]
  },
  {
   "cell_type": "markdown",
   "id": "applied-invitation",
   "metadata": {},
   "source": [
    "## 3. Elemzesek\n",
    "\n",
    "\n",
    "### Felhasználási esetek\n",
    "\n",
    "- szűrni bizonyos pos-tagekre, pl. keressük a múltidejű igéket\n",
    "- adott lemmahalmaz múltidejű előfordulásai\n",
    "- több morfológiai jegy figyelembevétele: pl adott lemmahalmaz múltidejű előfordulásai egyeszám elsőszemélyben ill. többesszám elsőszemélyben\n",
    "- a végén számolni kéne ezeket: az összes tokenszámhoz vagy az összes igéhez képest milyen arányban fordulnak elő ezek az alakok\n",
    "- van-e személyen névmás az ige mellett? \"éldegéltem\" vs. \"én éldegéltem\"\n",
    "- főnévnek van-e mellékneve\n",
    "- igének van-e határozószava\n",
    "- ezeket megint arányítani kell: az összes fn-ből mennyinek van jelzője, az összes igéből mennyinek van határozója\n",
    "- potenciálisan többszavas kifejezések keresése (emterm!)\n",
    "- Szövegbe visszaírni elemzések eredményét, pl. <érzelmi kifejezés>\n",
    "- Tagmondat szintű elemzés: keressük azon tagmondatokat, amikben van kötőszó, de nincs múltidejű igealak."
   ]
  },
  {
   "cell_type": "code",
   "execution_count": null,
   "id": "deadly-veteran",
   "metadata": {},
   "outputs": [],
   "source": [
    "# multideju igek aranya\n",
    "\n",
    "def is_not_punct(row):\n",
    "    pos = row['xpostag']\n",
    "    return not pos.startswith('[Punct]')\n",
    "\n",
    "def is_verb(row):\n",
    "    pos = row['xpostag']\n",
    "    return pos.startswith('[/V]')\n",
    "\n",
    "def is_past_verb(row):\n",
    "    pos = row['xpostag']\n",
    "    return pos.startswith('[/V][Pst.')\n",
    "\n",
    "mask0 = df.apply(is_not_punct, axis=1)\n",
    "mask1 = df.apply(is_verb, axis=1)\n",
    "mask2 = df.apply(is_past_verb, axis=1)\n",
    "\n",
    "count_word = len(df[mask0])\n",
    "count_verb = len(df[mask1])\n",
    "count_past_verb = len(df[mask2])\n",
    "\n",
    "print('multideju igek / osszes token: ', count_past_verb/len(df))\n",
    "print('multideju igek / osszes szo: ', count_past_verb/count_word)\n",
    "print('multideju igek / osszes ige: ', count_past_verb/count_verb)\n",
    "df[mask2]"
   ]
  },
  {
   "cell_type": "code",
   "execution_count": null,
   "id": "blind-breakdown",
   "metadata": {},
   "outputs": [],
   "source": [
    "# egyesszam 3. szemelyu igek\n",
    "\n",
    "def is_3sg_verb(row):\n",
    "    pos = str(row['xpostag'])\n",
    "    return pos.startswith('[/V]') and '3Sg' in pos\n",
    "\n",
    "mask3 = df.apply(is_3sg_verb, axis=1)\n",
    "\n",
    "count_3sg_verb = len(df[mask3])\n",
    "\n",
    "print('3sg igek / osszes token: ', count_3sg_verb/len(df))\n",
    "print('3sg igek / osszes szo: ', count_3sg_verb/count_word)\n",
    "print('3sg igek / osszes ige: ', count_3sg_verb/count_verb)\n",
    "df[mask3]"
   ]
  }
 ],
 "metadata": {
  "kernelspec": {
   "display_name": "Python 3",
   "language": "python",
   "name": "python3"
  },
  "language_info": {
   "codemirror_mode": {
    "name": "ipython",
    "version": 3
   },
   "file_extension": ".py",
   "mimetype": "text/x-python",
   "name": "python",
   "nbconvert_exporter": "python",
   "pygments_lexer": "ipython3",
   "version": "3.7.10"
  }
 },
 "nbformat": 4,
 "nbformat_minor": 5
}
