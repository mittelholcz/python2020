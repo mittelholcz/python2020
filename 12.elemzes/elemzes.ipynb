{
 "cells": [
  {
   "cell_type": "markdown",
   "id": "d51cbb52",
   "metadata": {},
   "source": [
    "# e-magyar elemzés\n",
    "\n",
    "---\n",
    "\n",
    "(2021. 04. 16.)\n",
    "\n",
    "Mittelholcz Iván"
   ]
  },
  {
   "cell_type": "markdown",
   "id": "dfc0ffdb",
   "metadata": {},
   "source": [
    "## 1. Az e-magyar használata"
   ]
  },
  {
   "cell_type": "markdown",
   "id": "628a9746",
   "metadata": {},
   "source": [
    "Az elemzendő szöveg:"
   ]
  },
  {
   "cell_type": "code",
   "execution_count": null,
   "id": "d50f5231",
   "metadata": {},
   "outputs": [],
   "source": [
    "!cat orkeny.txt"
   ]
  },
  {
   "cell_type": "markdown",
   "id": "d61fa72b",
   "metadata": {},
   "source": [
    "Az e-magyar legfrissebb verziójának letöltése:"
   ]
  },
  {
   "cell_type": "code",
   "execution_count": null,
   "id": "00697f28",
   "metadata": {},
   "outputs": [],
   "source": [
    "!docker pull mtaril/emtsv:latest"
   ]
  },
  {
   "cell_type": "markdown",
   "id": "7ccb0fff",
   "metadata": {},
   "source": [
    "Az *orkeny.txt* elemzése, az eredmény kiírása az *orkény.tsv* fájlba:"
   ]
  },
  {
   "cell_type": "code",
   "execution_count": null,
   "id": "cb357cfb",
   "metadata": {},
   "outputs": [],
   "source": [
    "!docker run --rm -i mtaril/emtsv:latest tok,morph,pos,ner <orkeny.txt >orkeny.tsv"
   ]
  },
  {
   "cell_type": "markdown",
   "id": "0d720364",
   "metadata": {},
   "source": [
    "Magyarázatok:\n",
    "\n",
    "- `!docker run --rm -i mtaril/emtsv:latest`: Az *e-magyar* futtatása\n",
    "- `tok,morph,pos,ner`: a használt modulok felsorolása\n",
    "    - `tok`: tokenizálás\n",
    "    - `morph`: morfológiai elemzés\n",
    "    - `pos`: szófaji egyértelműsítés\n",
    "    - `ner`: névelem felismerés\n",
    "- `<orkeny.txt`: Az elemzendő szöveg beolvasása az *orkeny.txt* fájlból.\n",
    "- `>orkeny.tsv`: Az elemzés kiírása az *orkeny.tsv* fájlba."
   ]
  },
  {
   "cell_type": "markdown",
   "id": "273e184e",
   "metadata": {},
   "source": [
    "## 2. Az elemzés beolvasása *pandas DataFrame*-be"
   ]
  },
  {
   "cell_type": "code",
   "execution_count": null,
   "id": "f2208f5f",
   "metadata": {},
   "outputs": [],
   "source": [
    "import pandas as pd\n",
    "\n",
    "df = pd.read_csv('orkeny.tsv', sep='\\t')\n",
    "df.head(50)"
   ]
  },
  {
   "cell_type": "code",
   "execution_count": null,
   "id": "8b1bac63",
   "metadata": {},
   "outputs": [],
   "source": [
    "mask = (df['form'] == 'a') | (df['form'] == 'az') | (df['form'] == 'egy')\n",
    "df['article'] = mask\n",
    "df.head(50)"
   ]
  }
 ],
 "metadata": {
  "kernelspec": {
   "display_name": "Python 3",
   "language": "python",
   "name": "python3"
  },
  "language_info": {
   "codemirror_mode": {
    "name": "ipython",
    "version": 3
   },
   "file_extension": ".py",
   "mimetype": "text/x-python",
   "name": "python",
   "nbconvert_exporter": "python",
   "pygments_lexer": "ipython3",
   "version": "3.7.10"
  }
 },
 "nbformat": 4,
 "nbformat_minor": 5
}
