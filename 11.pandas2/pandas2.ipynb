{
 "cells": [
  {
   "cell_type": "markdown",
   "metadata": {},
   "source": [
    "# Csoportosítás, korreláció, vizualizáció (Pandas)\n",
    "\n",
    "---\n",
    "\n",
    "(2021. 03. 26.)\n",
    "\n",
    "Mittelholcz Iván"
   ]
  },
  {
   "cell_type": "code",
   "execution_count": 2,
   "metadata": {},
   "outputs": [
    {
     "data": {
      "text/html": [
       "<div>\n",
       "<style scoped>\n",
       "    .dataframe tbody tr th:only-of-type {\n",
       "        vertical-align: middle;\n",
       "    }\n",
       "\n",
       "    .dataframe tbody tr th {\n",
       "        vertical-align: top;\n",
       "    }\n",
       "\n",
       "    .dataframe thead th {\n",
       "        text-align: right;\n",
       "    }\n",
       "</style>\n",
       "<table border=\"1\" class=\"dataframe\">\n",
       "  <thead>\n",
       "    <tr style=\"text-align: right;\">\n",
       "      <th></th>\n",
       "      <th>sepal_length</th>\n",
       "      <th>sepal_width</th>\n",
       "      <th>petal_length</th>\n",
       "      <th>petal_width</th>\n",
       "      <th>species</th>\n",
       "    </tr>\n",
       "    <tr>\n",
       "      <th>ID</th>\n",
       "      <th></th>\n",
       "      <th></th>\n",
       "      <th></th>\n",
       "      <th></th>\n",
       "      <th></th>\n",
       "    </tr>\n",
       "  </thead>\n",
       "  <tbody>\n",
       "    <tr>\n",
       "      <th>1</th>\n",
       "      <td>5.1</td>\n",
       "      <td>3.5</td>\n",
       "      <td>1.4</td>\n",
       "      <td>0.2</td>\n",
       "      <td>setosa</td>\n",
       "    </tr>\n",
       "    <tr>\n",
       "      <th>2</th>\n",
       "      <td>4.9</td>\n",
       "      <td>3.0</td>\n",
       "      <td>1.4</td>\n",
       "      <td>0.2</td>\n",
       "      <td>setosa</td>\n",
       "    </tr>\n",
       "    <tr>\n",
       "      <th>3</th>\n",
       "      <td>4.7</td>\n",
       "      <td>3.2</td>\n",
       "      <td>1.3</td>\n",
       "      <td>0.2</td>\n",
       "      <td>setosa</td>\n",
       "    </tr>\n",
       "    <tr>\n",
       "      <th>4</th>\n",
       "      <td>4.6</td>\n",
       "      <td>3.1</td>\n",
       "      <td>1.5</td>\n",
       "      <td>0.2</td>\n",
       "      <td>setosa</td>\n",
       "    </tr>\n",
       "    <tr>\n",
       "      <th>5</th>\n",
       "      <td>5.0</td>\n",
       "      <td>3.6</td>\n",
       "      <td>1.4</td>\n",
       "      <td>0.2</td>\n",
       "      <td>setosa</td>\n",
       "    </tr>\n",
       "    <tr>\n",
       "      <th>...</th>\n",
       "      <td>...</td>\n",
       "      <td>...</td>\n",
       "      <td>...</td>\n",
       "      <td>...</td>\n",
       "      <td>...</td>\n",
       "    </tr>\n",
       "    <tr>\n",
       "      <th>146</th>\n",
       "      <td>6.7</td>\n",
       "      <td>3.0</td>\n",
       "      <td>5.2</td>\n",
       "      <td>2.3</td>\n",
       "      <td>virginica</td>\n",
       "    </tr>\n",
       "    <tr>\n",
       "      <th>147</th>\n",
       "      <td>6.3</td>\n",
       "      <td>2.5</td>\n",
       "      <td>5.0</td>\n",
       "      <td>1.9</td>\n",
       "      <td>virginica</td>\n",
       "    </tr>\n",
       "    <tr>\n",
       "      <th>148</th>\n",
       "      <td>6.5</td>\n",
       "      <td>3.0</td>\n",
       "      <td>5.2</td>\n",
       "      <td>2.0</td>\n",
       "      <td>virginica</td>\n",
       "    </tr>\n",
       "    <tr>\n",
       "      <th>149</th>\n",
       "      <td>6.2</td>\n",
       "      <td>3.4</td>\n",
       "      <td>5.4</td>\n",
       "      <td>2.3</td>\n",
       "      <td>virginica</td>\n",
       "    </tr>\n",
       "    <tr>\n",
       "      <th>150</th>\n",
       "      <td>5.9</td>\n",
       "      <td>3.0</td>\n",
       "      <td>5.1</td>\n",
       "      <td>1.8</td>\n",
       "      <td>virginica</td>\n",
       "    </tr>\n",
       "  </tbody>\n",
       "</table>\n",
       "<p>150 rows × 5 columns</p>\n",
       "</div>"
      ],
      "text/plain": [
       "     sepal_length  sepal_width  petal_length  petal_width    species\n",
       "ID                                                                  \n",
       "1             5.1          3.5           1.4          0.2     setosa\n",
       "2             4.9          3.0           1.4          0.2     setosa\n",
       "3             4.7          3.2           1.3          0.2     setosa\n",
       "4             4.6          3.1           1.5          0.2     setosa\n",
       "5             5.0          3.6           1.4          0.2     setosa\n",
       "..            ...          ...           ...          ...        ...\n",
       "146           6.7          3.0           5.2          2.3  virginica\n",
       "147           6.3          2.5           5.0          1.9  virginica\n",
       "148           6.5          3.0           5.2          2.0  virginica\n",
       "149           6.2          3.4           5.4          2.3  virginica\n",
       "150           5.9          3.0           5.1          1.8  virginica\n",
       "\n",
       "[150 rows x 5 columns]"
      ]
     },
     "execution_count": 2,
     "metadata": {},
     "output_type": "execute_result"
    }
   ],
   "source": [
    "# íriszadatbázis beolvasása\n",
    "import pandas as pd\n",
    "\n",
    "df = pd.read_csv('iris.tsv', sep='\\t', index_col=0)\n",
    "df"
   ]
  },
  {
   "cell_type": "markdown",
   "metadata": {},
   "source": [
    "## 1. Csoportosítás (GroupBy)\n",
    "\n",
    "Az agregáló függvényeket (sum, min, max, mean, mode, std, stb.) nem csak a teljes táblára, vagy annak egyes oszlopaira lehet lekérni, hanem egy vagy több oszlop értékei szerint csoportosítva is.\n",
    "\n",
    "![kép](https://jakevdp.github.io/PythonDataScienceHandbook/figures/03.08-split-apply-combine.png)\n",
    "\n",
    "forrás: [VanderPlas, Jake: Python Data Science Handbook](https://jakevdp.github.io/PythonDataScienceHandbook/03.08-aggregation-and-grouping.html#Split,-apply,-combine)\n",
    "\n",
    "Pl. íriszek fajtái szerint vagyunk kíváncsiak az átlagos mértekre:"
   ]
  },
  {
   "cell_type": "markdown",
   "metadata": {},
   "source": [
    "### 1.1. Csoportosítás egy oszlop alapján"
   ]
  },
  {
   "cell_type": "code",
   "execution_count": null,
   "metadata": {},
   "outputs": [],
   "source": [
    "# a csoportosítás nem tábla, de táblaszerű\n",
    "df.groupby('species')"
   ]
  },
  {
   "cell_type": "code",
   "execution_count": null,
   "metadata": {},
   "outputs": [],
   "source": [
    "# a csoportosításnak van oszlopszerűsége, ami nem oszlop\n",
    "df.groupby('species')['sepal_width']"
   ]
  },
  {
   "cell_type": "code",
   "execution_count": null,
   "metadata": {},
   "outputs": [],
   "source": [
    "# viszont a tábla- ill. oszlopszerűségen is lehet aggregálni\n",
    "# tábla:\n",
    "df.groupby('species').mean()\n",
    "# egy oszlop:\n",
    "# df.groupby('species')['sepal_width'].mean()\n",
    "# több oszlop:\n",
    "# df.groupby('species')['sepal_length', 'sepal_width'].mean()"
   ]
  },
  {
   "cell_type": "markdown",
   "metadata": {},
   "source": [
    "### 1.2. Csoportosítás több oszlop alapján"
   ]
  },
  {
   "cell_type": "code",
   "execution_count": 7,
   "metadata": {},
   "outputs": [
    {
     "name": "stdout",
     "output_type": "stream",
     "text": [
      "sepal_width  species   \n",
      "2.0          versicolor    1\n",
      "2.2          versicolor    2\n",
      "             virginica     1\n",
      "2.3          setosa        1\n",
      "             versicolor    3\n",
      "Name: sepal_width, dtype: int64\n"
     ]
    }
   ],
   "source": [
    "# sepal_width és species szerint csoportosítunk, számláljuk a cellák eredményeit\n",
    "print(df.groupby(['sepal_width', 'species'])['sepal_width'].count().head()) # head(): csak az első 5-öt nézzük\n",
    "# fennmaradó oszlopok átlaga az egyes csoportokban\n",
    "#print(df.groupby(['sepal_width', 'species']).mean())\n",
    "# egy oszlop átlaga az egyes csoportokban\n",
    "# print(df.groupby(['sepal_width', 'species'])['sepal_length'].mean())"
   ]
  },
  {
   "cell_type": "markdown",
   "metadata": {},
   "source": [
    "## 2. Korreláció\n",
    "\n",
    "Lineáris kapcsolat (függőség / függetlenség) két változó között. Ha nincs korreláció, attól még lehet (nem lineáris) kapcsolat (pl. négyzetes).\n",
    "\n",
    "- $r$: mintabeli (Pearson-féle) korreláció\n",
    "- $-1 \\leq r \\leq 1$\n",
    "- $r = 0$: korrelálatlanok\n",
    "\n",
    "szintaxis (Pearson - deafult):\n",
    "\n",
    "```py\n",
    "df['oszlop1'].corr(df['oszlop2'])\n",
    "```\n",
    "\n",
    "Spearman:\n",
    "\n",
    "```py\n",
    "df['oszlop1'].corr(df['oszlop2'], method='spearman')\n",
    "```\n",
    "\n",
    "Kendall:\n",
    "\n",
    "```py\n",
    "df['oszlop1'].corr(df['oszlop2'], method='kendall')\n",
    "```"
   ]
  },
  {
   "cell_type": "code",
   "execution_count": null,
   "metadata": {},
   "outputs": [],
   "source": [
    "df['sepal_length'].corr(df['sepal_width'])"
   ]
  },
  {
   "cell_type": "code",
   "execution_count": null,
   "metadata": {},
   "outputs": [],
   "source": [
    "# setosa\n",
    "df.loc[1:50, :]['sepal_length'].corr(df.loc[1:50, :]['sepal_width'])"
   ]
  },
  {
   "cell_type": "code",
   "execution_count": null,
   "metadata": {},
   "outputs": [],
   "source": [
    "# versicolor\n",
    "df.loc[51:100, :]['sepal_length'].corr(df.loc[51:100, :]['sepal_width'])"
   ]
  },
  {
   "cell_type": "code",
   "execution_count": null,
   "metadata": {},
   "outputs": [],
   "source": [
    "# virginica\n",
    "df.loc[101:150, :]['sepal_length'].corr(df.loc[101:150, :]['sepal_width'])"
   ]
  },
  {
   "cell_type": "markdown",
   "metadata": {},
   "source": [
    "Korreláció is aggregál $\\rightarrow$ lehet csoportosítással használni:"
   ]
  },
  {
   "cell_type": "code",
   "execution_count": null,
   "metadata": {},
   "outputs": [],
   "source": [
    "df.groupby('species')['sepal_length'].corr(df['sepal_width'])"
   ]
  },
  {
   "cell_type": "code",
   "execution_count": null,
   "metadata": {},
   "outputs": [],
   "source": [
    "# Feladat: Mi van a petal_length és petal_width közötti kapcsolattal? (összes írisz és fajták szerint is)"
   ]
  },
  {
   "cell_type": "markdown",
   "metadata": {},
   "source": [
    "## 3. Vizualizáció\n",
    "\n",
    "Minden DataFrame-nek és minden oszlopnak (Series) (és minden GroupBy-nak) van `.plot()` metódusa, ami igazából a *matplotlib* modult hívja a háttérben.\n",
    "\n",
    "A `.plot()` alapból *line plot*-ot fog készíteni, ezt a `kind='típus'` opcionális paraméterrel tudjuk felülírni. Pl oszlopdiagram: `df.plot(kind='bar')` Lehetőségek:\n",
    "\n",
    "- `'line'`\n",
    "- `'bar'` és `'barh'`: függőleges és vízszintes oszlopdiagramm\n",
    "- `'pie'`: torta\n",
    "- `'hist'`: hisztogram\n",
    "- `'box'`: dobozos\n",
    "- `'scatter'`: pöttyös\n",
    "\n",
    "További opcionális paraméterek: [`pandas.DataFrame.plot`](https://pandas.pydata.org/pandas-docs/stable/reference/api/pandas.DataFrame.plot.html#pandas.DataFrame.plot)\n",
    "\n",
    "Ha még többet akar az ember, akkor közvetlenül a [`matplotlib`](https://matplotlib.org/contents.html)-et kell használni, vagy a [`seaborn`](https://seaborn.pydata.org/tutorial.html) csomagot."
   ]
  },
  {
   "cell_type": "code",
   "execution_count": null,
   "metadata": {},
   "outputs": [],
   "source": [
    "%matplotlib inline"
   ]
  },
  {
   "cell_type": "code",
   "execution_count": null,
   "metadata": {},
   "outputs": [],
   "source": [
    "df.plot()"
   ]
  },
  {
   "cell_type": "markdown",
   "metadata": {},
   "source": [
    "### 3.1. Egydimenziós adatok ábrázolása"
   ]
  },
  {
   "cell_type": "code",
   "execution_count": null,
   "metadata": {},
   "outputs": [],
   "source": [
    "df['sepal_length'].plot()"
   ]
  },
  {
   "cell_type": "code",
   "execution_count": null,
   "metadata": {},
   "outputs": [],
   "source": [
    "# boxplot (kvartilisek)\n",
    "df['sepal_length'].plot(kind='box')"
   ]
  },
  {
   "cell_type": "code",
   "execution_count": null,
   "metadata": {},
   "outputs": [],
   "source": [
    "# hisztogram\n",
    "df['sepal_length'].plot(kind='hist')"
   ]
  },
  {
   "cell_type": "code",
   "execution_count": null,
   "metadata": {},
   "outputs": [],
   "source": [
    "# hisztogram csoportokra\n",
    "df.groupby('species')['sepal_length'].plot(kind='hist')"
   ]
  },
  {
   "cell_type": "markdown",
   "metadata": {},
   "source": [
    "### 3.2. Kétdimenziós adatok ábrázolása\n",
    "\n",
    "Az $x$ és $y$ tengely megadható az `x='oszlop1'` és `y='oszlop2'` paraméterekkel"
   ]
  },
  {
   "cell_type": "code",
   "execution_count": null,
   "metadata": {},
   "outputs": [],
   "source": [
    "# szórásdiagram\n",
    "df.plot(x='sepal_length', y='sepal_width', kind='scatter', title='PLOTTTT')"
   ]
  },
  {
   "cell_type": "code",
   "execution_count": null,
   "metadata": {},
   "outputs": [],
   "source": [
    "# szórásdiagram csoportokra\n",
    "df.groupby('species').plot(x='sepal_length', y='sepal_width', kind='scatter')"
   ]
  },
  {
   "cell_type": "code",
   "execution_count": null,
   "metadata": {},
   "outputs": [],
   "source": [
    "# Feladat: Elemezzünk a petal_length és petal_width szórásdiagramokat (összes íriszre és a fajtákra is)!"
   ]
  },
  {
   "cell_type": "markdown",
   "metadata": {},
   "source": [
    "### 3.3. Többdimenziós adatok ábrázolása\n",
    "\n",
    "Több változó ábrázolásához a [`pandas.plotting`](https://pandas.pydata.org/pandas-docs/stable/reference/plotting.html) alcsomag függvényeit lehet használni."
   ]
  },
  {
   "cell_type": "code",
   "execution_count": null,
   "metadata": {},
   "outputs": [],
   "source": [
    "# szórásdiagram mátrix\n",
    "pd.plotting.scatter_matrix(df, figsize=(12, 9))"
   ]
  },
  {
   "cell_type": "code",
   "execution_count": null,
   "metadata": {},
   "outputs": [],
   "source": [
    "pd.plotting.radviz(df, 'species')"
   ]
  },
  {
   "cell_type": "markdown",
   "metadata": {},
   "source": [
    "## Irodalom\n",
    "\n",
    "- Hivatalos:\n",
    "    - [Dokumentáció](https://pandas.pydata.org/pandas-docs/stable/)\n",
    "    - [Getting started](https://pandas.pydata.org/pandas-docs/stable/getting_started/index.html)\n",
    "- [Real Python: Pandas](https://realpython.com/search?q=pandas)\n",
    "- [Downey, Allen B.: Think Stats](http://www.greenteapress.com/thinkstats/)\n",
    "- [VanderPlas, Jake: Python Data Science Handbook](https://jakevdp.github.io/PythonDataScienceHandbook/)"
   ]
  }
 ],
 "metadata": {
  "kernelspec": {
   "display_name": "Python 3",
   "language": "python",
   "name": "python3"
  },
  "language_info": {
   "codemirror_mode": {
    "name": "ipython",
    "version": 3
   },
   "file_extension": ".py",
   "mimetype": "text/x-python",
   "name": "python",
   "nbconvert_exporter": "python",
   "pygments_lexer": "ipython3",
   "version": "3.7.10"
  }
 },
 "nbformat": 4,
 "nbformat_minor": 2
}
