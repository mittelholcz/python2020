{
 "cells": [
  {
   "cell_type": "code",
   "execution_count": 13,
   "metadata": {},
   "outputs": [
    {
     "name": "stdout",
     "output_type": "stream",
     "text": [
      "magas hangrendű szó\n"
     ]
    }
   ],
   "source": [
    "# 1. feladat nem egyszerűsítve\n",
    "import csv\n",
    "\n",
    "class Szocikk:\n",
    "    def __init__(self, szo, jelentes, szofaj):\n",
    "        self.szo = szo\n",
    "        self.jelentes = jelentes\n",
    "        self.szofaj = szofaj\n",
    "        \n",
    "    def hangrend(self):\n",
    "        me = set(self.szo) & {'a', 'á', 'o', 'ó', 'u', 'ú'}\n",
    "        ma = set(self.szo) & {'e', 'é', 'i', 'í', 'ö', 'ő', 'ü', 'ű'}\n",
    "        if len(ma) > 0 and len(me) > 0:\n",
    "            hangrend = 1\n",
    "        elif len(ma) > 0 and len(me) == 0:\n",
    "            hangrend = 2\n",
    "        else:\n",
    "            hangrend = 3\n",
    "        return hangrend\n",
    "    \n",
    "    def kiiro(self):\n",
    "        hangrend = self.hangrend()\n",
    "        if hangrend == 1:\n",
    "            print('vegyes hangrendű szó')\n",
    "        elif hangrend == 2:\n",
    "            print('magas hangrendű szó')\n",
    "        elif hangrend == 3:\n",
    "            print('mély hangrendű szó')\n",
    "        else:\n",
    "            print('nem tom mi van!')\n",
    "            \n",
    "cipő = Szocikk('cipő', 'lábbeli', 'főnév')\n",
    "\n",
    "cipő.kiiro()"
   ]
  },
  {
   "cell_type": "code",
   "execution_count": 7,
   "metadata": {},
   "outputs": [
    {
     "data": {
      "text/plain": [
       "False"
      ]
     },
     "execution_count": 7,
     "metadata": {},
     "output_type": "execute_result"
    }
   ],
   "source": [
    "1 == 1\n",
    "1 == 2\n",
    "[1] == 1 # lista es szam nem egyenlo!"
   ]
  },
  {
   "cell_type": "code",
   "execution_count": 30,
   "metadata": {},
   "outputs": [
    {
     "name": "stdout",
     "output_type": "stream",
     "text": [
      "szo: jelentes\n",
      "cipő: lábbeli\n",
      "kalap: fejfedő\n"
     ]
    }
   ],
   "source": [
    "# 2. feladat függvénnyel\n",
    "import csv\n",
    "\n",
    "def create_list(filename):\n",
    "    inp = open(filename)\n",
    "    reader = csv.reader(inp, delimiter='\\t')\n",
    "    szocikk_lista = []\n",
    "    for row in reader:\n",
    "        # a row egy lista, ami egy sor cellait tartalmazza\n",
    "        #szo = row[0]\n",
    "        #jelentes = row[1]\n",
    "        #szofaj = row[2]\n",
    "        #cikk = Szocikk(szo, jelentes, szofaj)\n",
    "        #szocikk_lista.append(cikk)\n",
    "        szocikk_lista.append(Szocikk(*row))\n",
    "    inp.close()\n",
    "    return szocikk_lista\n",
    "\n",
    "lista = create_list('szocikkek.tsv')\n",
    "for cikk in lista:\n",
    "    print('{0}: {1}'.format(cikk.szo, cikk.jelentes))"
   ]
  },
  {
   "cell_type": "code",
   "execution_count": 18,
   "metadata": {},
   "outputs": [
    {
     "name": "stdout",
     "output_type": "stream",
     "text": [
      "10\n"
     ]
    }
   ],
   "source": [
    "def fun():\n",
    "    x = 10\n",
    "    return x\n",
    "\n",
    "y = fun()\n",
    "print(y)"
   ]
  },
  {
   "cell_type": "markdown",
   "metadata": {},
   "source": [
    "A mostani megoldásban mi a text típusa? \n",
    "Ha egy ilyen típusu dolgon megyünk végig for ciklussal, akkor milyen elemeket kapunk (nem sorokat, és pláne nem tsv-sorokat!). \n",
    "A get_szocikk egy önálló függvény vagy egy metódus? \n",
    "Melyik esetben kell self argumentum? \n",
    "Hogy lehet megadni a függvénynek a fájlnevet argumentumként? \n",
    "Miért kell a kalap a \"lista = kalap.get_szocikk()\" sorba, ha egyszer még nincs egy szócikkünk sem? \n",
    "(Hiszen pont most akarunk szócikekket létrehozni a tsv fájl alapján.) \n",
    "Mit ír ki a \"print(szocikk_lista)\" ha egyszer \"lista\"-ként neveztük el a get_szocikk() függvény visszatérési értékkét? \n",
    "Nézd meg jobban a saját, nem függvényes megoldásodat! Az teljesen jó, csináld azt a függvényben is.\n"
   ]
  },
  {
   "cell_type": "code",
   "execution_count": 37,
   "metadata": {},
   "outputs": [
    {
     "name": "stdout",
     "output_type": "stream",
     "text": [
      "\n",
      "A(z) \"cipő\" szó (jelentése \"lábbeli\") 2 hangrendű.\n"
     ]
    }
   ],
   "source": [
    "# 3. feladat vázlata\n",
    "\n",
    "def kereso(mylist, szo):\n",
    "    res = ''\n",
    "    for x in mylist:\n",
    "        if x.szo == szo:\n",
    "            res = 'A(z) \"{0}\" szó (jelentése \"{1}\") {2} hangrendű.'.format(x.szo, x.jelentes, x.hangrend())\n",
    "            break\n",
    "    return res\n",
    "    \n",
    "    \n",
    "x = kereso(lista, 'alma')\n",
    "y = kereso(lista, 'cipő')\n",
    "print(x)\n",
    "print(y)"
   ]
  },
  {
   "cell_type": "markdown",
   "metadata": {},
   "source": [
    "1. Csináj egy osztályt (class), ami szócikkeket tud reprezentálni. A szócikk osztálynak legyen három változója: \n",
    "    szó, jelentés , szófaj (mindhárom sima string). Legyen egy metódusa is, ami megmondja az adott szó hangrendjét \n",
    "    (mély, ha csak a, á, o, ó, u vagy ú magánhangzókat tartalmaz, magas, ha ilyeneket nem \n",
    "     és vegyes, ha magas és mély magánhangzókat is tartalmaz).\n",
    "2. Legyen egy függvény, aminek egy tsv fájlt lehet megadni paraméterként. A tsv fájl tartalmazzon soronként \n",
    "egy \"szócikkeket\" (szó, jelentés, szófaj, tab-bal elválasztva). A függvény olvassa be a fájlt, minden szóból csináljon \n",
    "egy szócikket és térjen vissza a szócikkek listáját.\n",
    "3. Legyen egy lekérdező függvény. Első paramétere szócikkek listája, második egy keresett szó. Ha a szócikkek listája \n",
    "tartalmazza a keresett szót, akkor térjen vissza egy stringgel, ami tartalmazza a keresett szó jelentését, \n",
    "szófaját és hangrendjét. Ha a lista nem tartalmazza a keresett szót, akkor üres stringet adjon vissza."
   ]
  }
 ],
 "metadata": {
  "kernelspec": {
   "display_name": "Python 3",
   "language": "python",
   "name": "python3"
  },
  "language_info": {
   "codemirror_mode": {
    "name": "ipython",
    "version": 3
   },
   "file_extension": ".py",
   "mimetype": "text/x-python",
   "name": "python",
   "nbconvert_exporter": "python",
   "pygments_lexer": "ipython3",
   "version": "3.7.9"
  }
 },
 "nbformat": 4,
 "nbformat_minor": 2
}
