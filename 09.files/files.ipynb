{
 "cells": [
  {
   "cell_type": "markdown",
   "metadata": {
    "slideshow": {
     "slide_type": "slide"
    }
   },
   "source": [
    "# Szöveges fájlformátumok\n",
    "\n",
    "---\n",
    "\n",
    "(2021. 02. 12.)\n",
    "\n",
    "Mittelholcz Iván"
   ]
  },
  {
   "cell_type": "markdown",
   "metadata": {
    "slideshow": {
     "slide_type": "slide"
    }
   },
   "source": [
    "# 1. Plain text (TXT)"
   ]
  },
  {
   "cell_type": "markdown",
   "metadata": {
    "slideshow": {
     "slide_type": "subslide"
    }
   },
   "source": [
    "# 1.1. Plain text fájlok soronkénti feldolgozása (*filter*)\n",
    "\n",
    "Séma, a `process()` függvény változtatásával kb. bármilyen, soronként kezelhető problémára jó (egyszerre csak egy sor és feldolgozása van a memóriában):\n",
    "\n",
    "```py\n",
    "inp = open('input.txt')\n",
    "out = open('output.txt', 'w')\n",
    "\n",
    "for line in inp:\n",
    "    line = line.strip()\n",
    "    if not line:\n",
    "        continue\n",
    "    res = process(line)\n",
    "    out.write(res)\n",
    "\n",
    "inp.close()\n",
    "out.close()\n",
    "```"
   ]
  },
  {
   "cell_type": "code",
   "execution_count": null,
   "metadata": {},
   "outputs": [],
   "source": [
    "# rossz!!! (mind a bemenet, mind a kimenet egyszerre a memoriaban)\n",
    "\n",
    "inp = open('input.txt')\n",
    "text = inp.read()\n",
    "inp.close()\n",
    "\n",
    "res = []\n",
    "for line in text.split('\\n'):\n",
    "    line = line.strip()\n",
    "    if not line:\n",
    "        continue\n",
    "    res.append(process(line))\n",
    "\n",
    "out = open('output.txt', 'w')\n",
    "out.write('\\n'.join(res))\n",
    "out.close()"
   ]
  },
  {
   "cell_type": "markdown",
   "metadata": {
    "slideshow": {
     "slide_type": "subslide"
    }
   },
   "source": [
    "# 1.2. Reguláris kifejezések"
   ]
  },
  {
   "cell_type": "code",
   "execution_count": null,
   "metadata": {},
   "outputs": [],
   "source": [
    "# keresés és csere\n",
    "\n",
    "'lm' in 'alma'\n",
    "'alma'.replace('a', 'X')"
   ]
  },
  {
   "cell_type": "markdown",
   "metadata": {
    "slideshow": {
     "slide_type": "subslide"
    }
   },
   "source": [
    "## 1.2.1. Mi egy reguláris kifejezés (*regex*)?\n",
    "\n",
    "*reguláris kifejezés*: stringek egy halmazát határozza meg (egy reguláris nyelvet), tartalmazhat literális karaktereket és műveleteket.\n",
    "\n",
    "Műveletek:\n",
    "\n",
    "- *Konkatenáció*: R1 és R2 reguláris kifejezés, ekkor R1R2 is regularis kifejezés és R1R2 = {ab : a eleme R1 és b eleme R2}.\n",
    "- *Unió* (v. *alternáció*): R1 és R2 reguláris kifejezés, ekkor R1 unió R2 is regularis kifejezés és R1 unió R2 = {a : a eleme R1 vagy a eleme R2}.\n",
    "- *Kleene csillag*: R reguláris kifejezés, ekkor R* is reguláris kifejezés, mely tartalmazza az üres stringet és R elemeinek tetszőleges konkatenációját.\n",
    "\n",
    "Műveletek precedenciája: *csillag* > *konkatenáció* > *alternáció*"
   ]
  },
  {
   "cell_type": "markdown",
   "metadata": {
    "slideshow": {
     "slide_type": "subslide"
    }
   },
   "source": [
    "## 1.2.2. Szintaxis\n",
    "\n",
    "### Pozícióra (nulla karakterre) illesztés\n",
    "\n",
    "- `^`: string / sor elejére illeszkedik\n",
    "- `$`: string / sor végére illeszkedik\n",
    "\n",
    "### Egy karakterre illesztés\n",
    "\n",
    "- `.`: bármilyen karakterre illeszkedik\n",
    "- különleges karakterre azt iszképelve lehet illeszteni, pl. `\\.` illeszkedik a .-ra.\n",
    "- `x`: literális karakter, saját magára illeszkedik\n",
    "- `[ ]`: a zárójelen belül felsorolt karakterek valamelyikére illeszkedik, pl. `[ab]` illeszkedik az `a` vagy a `b` karakterre, másra nem.\n",
    "    - Megadható tartomány is, pl `[a-z]` illeszkedik az ASCII kisbetűkre, `[0-9]` pedig a számjegyekre.\n",
    "    - Ha a kötőjelet is be akarjuk venni a felsorolt karakterek közé, akkor a felsorolás elejére vagy végére kell írni.\n",
    "    - A szögletes zárójelen belül más karakterek elveszítik speciális jelentésüket, pl. `[.]` egy literális pontra illeszkedik, nem pedig bármire.\n",
    "- `[^ ]` illeszkedik a zárójelen belül fel nem sorolt karakterek valamelyikére. Megadható tartomány is, pl. `[^A-Z0-9]` illeszkedik minden karakterre, ami nem ASCII nagybetű és nem is számjegy.\n",
    "\n",
    "### Változó hosszúságú illesztések (mindig mohó)\n",
    "\n",
    "- `|`: Alternáció, az előtte vagy az utána következő regex valamelyikére illeszkedik, pl. abcd|xyz illeszkedik abcd-re és xyz-re is. Alternációt lehatárolni zárójellel lehet, pl. `ab(cd|xy)z` illeszkedik az *abcdz* és az *abxyz* stringekre.\n",
    "- `?`: nulla vagy egy az előző karakterből / csoportból\n",
    "- `*`: nulla vagy bármennyi az előző karakterből / csoportból\n",
    "- `+`: legalább egy az előző karakterből / csoportból\n",
    "- `{m,n}`: minimum *m*, maximum *n* darab az előző karakterből / csoportból.\n",
    "    - `{m,}` alakban csak a minimumot is megadhatjuk (a maximum ekkor bármennyi lehet, hasonlóan a `*`-hoz).\n",
    "    - `{,n}` alakban csak a maximumot is megadhatjuk (a minimum ekkor nulla, hasonlóan a `*`-hoz)\n",
    "    - `{m}`: pontosam *m* darab\n",
    "\n",
    "### Különleges karakterek\n",
    "\n",
    "- `\\n`: új sor (new line)\n",
    "- `\\t`: TAB\n",
    "- `\\s`: whitespace karakterek\n",
    "- `\\S`: nem whitespace karakterek\n",
    "- `\\w`: szóalkotó karakterek (számjegyek, betűk és alulvonás)\n",
    "- `\\W`: nem szóalkotó karakterek\n",
    "- `\\d`: számjegyek (*digit*)\n",
    "- `\\D`: nem számjegyek\n",
    "\n",
    "### Csoport és hivatkozás csoportra\n",
    "\n",
    "- `()`: A zárójelen belüli kifejezés megnevezett csoport lesz, amire később hivatkozni lehet. Általában egymásba ágyazhatók, de nem fedhetnek át. A *(a.(.a))* illeszkedik pl. az abba stringre. Zárójelre hivatkozni backslash-sel lehet:  `\\(` és `\\)`\n",
    "- `\\n`: Hivatkozás egy csoportra (az *n* itt a csoport száma helyett áll). Pl. `(a.(.a)) \\2 \\1` illeszkedik az abba ba abba stringre.\n",
    "\n",
    "Egy-egy reguláris nyelv általában sokféleképpen megadhatók regexekkel (pl. `a+` = `aa*`), nincs igazán jó egyszerűsítő módszer, ezért érdemes jól megírni a regexeket!\n",
    "\n",
    "### Regexek a Python-ban\n",
    "\n",
    "Python modul: `re`\n",
    "\n",
    "Dokumentáció: <https://docs.python.org/3/library/re.html>\n",
    "\n",
    "HOWTO: <https://docs.python.org/3/howto/regex.html#regex-howto>\n",
    "\n",
    "A Python hajlamos a stringekben lecserélni dolgokat (pl. a \\n-t sortörésre, stb.). Hogy ne kelljen mindent kiiszképelni (sőt, az iszképelő backslash-t is iszképelni), ezért minták megadásánál érdemes ún. *raw string*-eket használni. Ezt a string literál elé írt *r* betűvel lehet elérni, pl. `nyers = r'valami\\n'`"
   ]
  },
  {
   "cell_type": "markdown",
   "metadata": {},
   "source": [
    "## 1.2.3. Példák\n",
    "\n",
    "```\n",
    "Regex      --->      mire illeszkedik\n",
    "-----------------------------------\n",
    "a                    a\n",
    "aa                   aa\n",
    "[ab]                 a vagy b\n",
    "[ab]a                aa vagy ba\n",
    "[aa]                 a\n",
    "[a][a]               aa\n",
    "[ab][ab]             aa, ab, ba, bb\n",
    "[a-záéíóöőúüű]       összes kisbetű\n",
    "[ab-]                a, b vagy kötőjel\n",
    "[a-z-]               kisbetűk + kötőjel\n",
    "[.]                  .\n",
    "[^ab]                bármi, ami nem a és nem b\n",
    "ab|cd                ab vagy cd\n",
    "[ac][bd]             ab, cd, ad, cb\n",
    "abba|beatles         abba vagy beatles\n",
    "[a-h]|[p-s]\n",
    "[a-hp-s]\n",
    "[abcdefghpqrs]\n",
    "a?                   a vagy semmi (ürse string)\n",
    "alma?                alma, alm\n",
    "(alma)?              alma vagy semmi\n",
    "alma*                alm, alma, almaa,almaaa, stb\n",
    "(alma)*              semmi, alma, almaalma, almaalmaalma, stb\n",
    "alma+                alma, almaa, almaaa, stb\n",
    "(alma)+              alma, almaalma, almaalmaalma, stb\n",
    "alma{2,4}            almaa, almaaa, almaaaa\n",
    "alma{2,}             almaa, almaaa, almaaaa, almaaaa, stb\n",
    "alma{,4}             alm, alma, almaa, almaaa, almaaaa\n",
    "alma{3}              almaaa\n",
    "(ab[xd]|alma){2,3}   abxabx, abdabx, almaabx ...\n",
    "\\(alm\\)              (alma)\n",
    "([ab]x)\\1            axax, bxbx\n",
    "([ab]x)([ab]x)       axax, axbx, bxax, bxbx\n",
    "(abba) (beatles) \\1  abba beatles abba\n",
    "(abba) (beatles) \\2  abba beatles beatles\n",
    "(beat(le)s) \\1       beatles beatles\n",
    "(beat(le)s) \\2       beatles le\n",
    "```"
   ]
  },
  {
   "cell_type": "markdown",
   "metadata": {
    "slideshow": {
     "slide_type": "subslide"
    }
   },
   "source": [
    "## 1.2.4 Keresés\n",
    "\n",
    "A `re.search(pattern, text)` függvény a megadott szövegben keresi a mintát. Ha van találat, akkor az első előfordulással tér vissza (ún. *match object*).\n",
    "\n",
    "Példa:"
   ]
  },
  {
   "cell_type": "code",
   "execution_count": null,
   "metadata": {},
   "outputs": [],
   "source": [
    "import re\n",
    "m = re.search(r'(\\w+) (\\w+) (\\d+)??', 'ritkán rikkant 111 a rigó')\n",
    "if m:\n",
    "    print(m.group(0)) # a teljes illeszkedő szövegrész (nem kell zárójelezve legyen)\n",
    "    print(m.group(1)) # 1-as csoport\n",
    "    print(m.group(2)) # 2-es csopot\n",
    "    print(m.group(3)) # 3-es csopot\n",
    "    print(m.group(1,2)) # tuple az 1-es és a 2-es csoportból"
   ]
  },
  {
   "cell_type": "markdown",
   "metadata": {
    "slideshow": {
     "slide_type": "subslide"
    }
   },
   "source": [
    "A `re.findall(pattern, text)` függvény a megadott szövegben keresi a minta összes, nem átfedő előfordulását. Az előfordulások listájával tér vissza (ha nem voltak csoportok, akkor stringek listája, ha voltak, akkor tuple-ök listája).\n",
    "\n",
    "Példa:"
   ]
  },
  {
   "cell_type": "code",
   "execution_count": null,
   "metadata": {
    "slideshow": {
     "slide_type": "subslide"
    }
   },
   "outputs": [],
   "source": [
    "m = re.findall(r'((\\d+ )?\\w+)', '100 forintnak 50 a fele')\n",
    "print(m)"
   ]
  },
  {
   "cell_type": "code",
   "execution_count": null,
   "metadata": {},
   "outputs": [],
   "source": [
    "import re\n",
    "m = re.search(r'(\\w+) (\\w+) (\\d+)?', 'ritkán rikkant a rigó')\n",
    "if m:\n",
    "    print(m.group(0)) x# a teljes illeszkedő szövegrész (nem kell zárójelezve legyen)\n",
    "    print(m.group(1)) # 1-as csoport\n",
    "    print(m.group(2)) # 2-es csopot\n",
    "    print(m.group(3)) # 3-es csopot\n",
    "    print(m.group(1,2)) # tuple az 1-es és a 2-es csoportból"
   ]
  },
  {
   "cell_type": "markdown",
   "metadata": {
    "slideshow": {
     "slide_type": "subslide"
    }
   },
   "source": [
    "## 1.2.5. Csere és törlés\n",
    "\n",
    "A `re.sub(pattern, replace, text)` függvény lecseréli a minta előfordulásait a szövegben és a módosított szöveggel tér vissza.\n",
    "\n",
    "A mintában lévő csoportokra `\\szám` formában lehet hivatkozni a csere-szövegben."
   ]
  },
  {
   "cell_type": "code",
   "execution_count": null,
   "metadata": {
    "slideshow": {
     "slide_type": "subslide"
    }
   },
   "outputs": [],
   "source": [
    "new = re.sub(r'(\\d+)', r'\\1 db', '10 rigó rikkant')\n",
    "print(new)"
   ]
  },
  {
   "cell_type": "markdown",
   "metadata": {
    "slideshow": {
     "slide_type": "subslide"
    }
   },
   "source": [
    "## 1.2.6. Mohóság\n",
    "\n",
    "Mohó operátorok: `*`, `+`, `?`\n",
    "\n",
    "Lusta operátorok: `*?`, `+?`, `??`"
   ]
  },
  {
   "cell_type": "code",
   "execution_count": null,
   "metadata": {
    "slideshow": {
     "slide_type": "subslide"
    }
   },
   "outputs": [],
   "source": [
    "string = 'xaaaxaaax'\n",
    "greedy = re.search(r'x.*x', string)\n",
    "lazy = re.search(r'x.*?x', string)\n",
    "print('mohó:', greedy.group())\n",
    "print('lusta:', lazy.group())\n",
    "\n",
    "\n",
    "m = re.search(r'<(.*?)>', '<tag>valami</tag>')\n",
    "print(m.group(1))"
   ]
  },
  {
   "cell_type": "markdown",
   "metadata": {
    "slideshow": {
     "slide_type": "subslide"
    }
   },
   "source": [
    "## 1.2.7. Optimalizálás\n",
    "\n",
    "A mintából mindig egy objektum generálodik, ez költésges folyamat. A `re.compile(pattern)` függvénnyel elmenthetjük ezt az objektumot, később számtalanszor újrahasznosíthatjuk. Példa:\n",
    "\n",
    "```py\n",
    "pat = re.compile(pattern)\n",
    "result = pat.search(text)\n",
    "# ugyan az, mint a result = re.search(pattern, text)\n",
    "```\n",
    "\n",
    "Rossz gyakorlat:\n",
    "\n",
    "```py\n",
    "for line in inp:\n",
    "    result = re.findall(pattern, line)\n",
    "```\n",
    "\n",
    "Jó gyakorlat:\n",
    "\n",
    "```py\n",
    "p = re.compile(pattern)\n",
    "for line in inp:\n",
    "    result = p.findall(line)\n",
    "```\n",
    "\n",
    "Példa:"
   ]
  },
  {
   "cell_type": "code",
   "execution_count": null,
   "metadata": {},
   "outputs": [],
   "source": [
    "pat = re.compile('^a.*')\n",
    "\n",
    "for word in 'alma barack ananász citrom avokádó dió'.split():\n",
    "    m = pat.search(word)\n",
    "    if m:\n",
    "        print(m.group(0))"
   ]
  },
  {
   "cell_type": "markdown",
   "metadata": {
    "slideshow": {
     "slide_type": "subslide"
    }
   },
   "source": [
    "## 1.2.8. Feladatok\n",
    "\n",
    "- Írjunk egy függvényt, ami egy szöveget és egy pozitív egész számot vár paraméterként. A függvény adja vissza, hogy hány adott hosszúságú szó van a szövegben. Punktuációk sorozata nem számít szónak.\n",
    "- Írjunk egy függvényt, ami egy szövegben megtalálja az *yyyy. mm. dd.* formátumú, az *yyyy-mm-dd.* formátumú és a *yyyy/mm/dd.* formátumú dátumokat. A függvény visszatérési értéke a dátumok listája legyen. Pl. a  `text2dates('Roger Federer (1981. 08. 08.) a Bázel környéki Binningenben született.')` visszaadja, hogy `['1981. 08. 08.']`).\n",
    "- Írjunk egy függvényt, ami a *yyyy. mm. dd.*, vagy *yyyy-mm-dd.*, vagy *yyyy/mm/dd.* formátumú dátumból megmondja a hónapot. Pl. a `get_month('1981. 08. 08.')` visszaadja, hogy `augusztus`). Rossz bemenetre `None` értéket adjon vissza."
   ]
  },
  {
   "cell_type": "markdown",
   "metadata": {
    "slideshow": {
     "slide_type": "slide"
    }
   },
   "source": [
    "# 2. CSV / TSV\n",
    "\n",
    "CSV: Coma Separated Values\n",
    "\n",
    "TSV: TAB Separated Values\n",
    "\n",
    "Egy sor = egy objektum, egy oszlop = egy tulajdonság, opcionálisan van egy fejléc, az oszlopok nevével.\n",
    "\n",
    "Példa:\n",
    "\n",
    "```txt\n",
    "Név     Fajta   Kor\n",
    "Pongó   dalmata 6\n",
    "Foltos  dalmata 0\n",
    "Ezredes bobtail 15\n",
    "Nózi    vizsla  14\n",
    "```"
   ]
  },
  {
   "cell_type": "markdown",
   "metadata": {
    "slideshow": {
     "slide_type": "subslide"
    }
   },
   "source": [
    "# 2.1. Olvasás\n",
    "\n",
    "Modul: `csv` (a TSV fájlokhoz is ezt használjuk)\n",
    "\n",
    "Dokumentáció: <https://docs.python.org/3/library/csv.html>\n",
    "\n",
    "Példa: TSV sorok beolvasása listába (`process`: listát feldolgozó függvény)\n",
    "\n",
    "```py\n",
    "import csv\n",
    "\n",
    "inp = open('input.tsv')\n",
    "reader = csv.reader(inp, delimiter='\\t')\n",
    "for row in reader:\n",
    "    process(row)\n",
    "```"
   ]
  },
  {
   "cell_type": "code",
   "execution_count": null,
   "metadata": {},
   "outputs": [],
   "source": [
    "import csv\n",
    "\n",
    "class Kutya:\n",
    "    def __init__(self, nev, fajta, kor):\n",
    "        self.nev = nev\n",
    "        self.fajta = fajta\n",
    "        self.kor = kor\n",
    "\n",
    "inp = open('101.tsv')\n",
    "reader = csv.reader(inp, delimiter='\\t')\n",
    "kutyak = []\n",
    "for row in reader:\n",
    "    kutyak.append(Kutya(*row)) # kicsomagolas: Kutya([nev, fajta, kor]) --> Kutya(nev, fajta, kor)\n",
    "\n",
    "for kutya in kutyak:\n",
    "    print(kutya.nev, kutya.fajta, kutya.kor)"
   ]
  },
  {
   "cell_type": "markdown",
   "metadata": {
    "slideshow": {
     "slide_type": "subslide"
    }
   },
   "source": [
    "# 2.2. Írás\n",
    "\n",
    "Példa: listák kiírása TSV fájlba (`data`: listák listája)\n",
    "\n",
    "```py\n",
    "import csv\n",
    "\n",
    "out = open('output.tsv', 'w')\n",
    "writer = csv.writer(out, delimiter='\\t')\n",
    "for row in data:\n",
    "    writer.writerow(row)\n",
    "```"
   ]
  },
  {
   "cell_type": "code",
   "execution_count": null,
   "metadata": {},
   "outputs": [],
   "source": [
    "import csv\n",
    "\n",
    "out = open('output.tsv', 'w')\n",
    "writer = csv.writer(out, delimiter='\\t')\n",
    "for k in kutyak:\n",
    "    writer.writerow([k.nev, k.kor, k.fajta])\n",
    "    \n",
    "out.close()"
   ]
  },
  {
   "cell_type": "markdown",
   "metadata": {
    "slideshow": {
     "slide_type": "subslide"
    }
   },
   "source": [
    "# 2.3. Feladatok\n",
    "\n",
    "- Írjunk egy szkriptet, ami a `101.tsv` fájl alapján kiszámolja a kutyák átlagéletkorát.\n",
    "- Írjunk egy szkriptet, ami tetszőleges szöveges fájlból szógyakoriságot számol, az eredményt egy fejléces TSV fájlba írja ki."
   ]
  },
  {
   "cell_type": "markdown",
   "metadata": {
    "slideshow": {
     "slide_type": "slide"
    }
   },
   "source": [
    "# 3. XML / HTML\n",
    "\n",
    "Példa (l. <https://hu.wikipedia.org/wiki/XML>):\n",
    "\n",
    "```xml\n",
    "<Recept név=\"kenyér\" elk_idő=\"5 perc\" sütés_idő=\"3 óra\">\n",
    "  <cím>Egyszerű kenyér</cím>\n",
    "  <összetevő mennyiség=\"3\" egység=\"csésze\">Liszt</összetevő>\n",
    "  <összetevő mennyiség=\"10\" egység=\"dekagramm\">Élesztő</összetevő>\n",
    "  <összetevő mennyiség=\"1.5\" egység=\"csésze\">Meleg víz</összetevő>\n",
    "  <összetevő mennyiség=\"1\" egység=\"teáskanál\">Só</összetevő>\n",
    "  <Utasítások>\n",
    "    <lépés>Keverj össze minden összetevőt, aztán jól gyúrd össze!</lépés>\n",
    "    <lépés>Fedd le ruhával és hagyd pihenni egy óráig!</lépés>\n",
    "    <lépés>Gyúrd össze újra, aztán süsd meg a sütőben!</lépés>\n",
    "  </Utasítások>\n",
    "</Recept>\n",
    "```"
   ]
  },
  {
   "cell_type": "markdown",
   "metadata": {
    "slideshow": {
     "slide_type": "subslide"
    }
   },
   "source": [
    "# 3.1. Szintaxis\n",
    "\n",
    "- csak séma: jelölő nyelv, bármit leírhat (vs HMTL), nincsenek előre definiált tagek\n",
    "- fa struktúra: egy gyökér elem, minden más az ő \"gyereke\", vagy a gyerekének a gyereke, sít.\n",
    "- *elem*: minden, ami \"fel van címkézve\", pl.\n",
    "\n",
    "  ```xml\n",
    "  <...>liszt</...>\n",
    "  ```\n",
    "\n",
    "- *tag*: címkék az elemeken, kötelező lezárni őket, nem fedhetnek át, pl.\n",
    "\n",
    "  ```xml\n",
    "  <összetevő>...</összetevő>\n",
    "  ```\n",
    "\n",
    "- *attribútum*: plusz információk (kulcs-érték párok) a nyitótageken belül, pl.\n",
    "  ```xml\n",
    "  <... egység=\"csésze\">...</...>\n",
    "  ```"
   ]
  },
  {
   "cell_type": "markdown",
   "metadata": {
    "slideshow": {
     "slide_type": "subslide"
    }
   },
   "source": [
    "# 3.2. Beautifulsoup alapok\n",
    "\n",
    "Dokumentáció: <https://www.crummy.com/software/BeautifulSoup/bs4/doc/>\n",
    "\n",
    "Telepítés (Beautifulsoup és xml parser):\n",
    "\n",
    "```sh\n",
    "pip install beautifulsoup4 lxml\n",
    "```\n",
    "\n",
    "Leveskészítés stringből (xml):\n",
    "\n",
    "```python\n",
    "from bs4 import BeautifulSoup as BS\n",
    "xml = '<összetevő mennyiség=\"3\" egység=\"csésze\">Liszt</összetevő>'\n",
    "soup = BS(xml, 'xml')\n",
    "```\n",
    "\n",
    "Leves fájlból (xml):\n",
    "\n",
    "```py\n",
    "inp = open('recept.xml')\n",
    "soup = BS(inp, 'xml')\n",
    "print(soup.prettify())\n",
    "```"
   ]
  },
  {
   "cell_type": "markdown",
   "metadata": {
    "slideshow": {
     "slide_type": "subslide"
    }
   },
   "source": [
    "# 3.3. Tagek\n",
    "\n",
    "Első a fában: `soup.tag`\n",
    "\n",
    "Példa\n",
    "\n",
    "```python\n",
    "print(soup.cím)\n",
    "print(soup.összetevő)\n",
    "```\n",
    "\n",
    "Összes a fában: `soup.find_all(tag)` (listaszerű)\n",
    "\n",
    "Példa:\n",
    "\n",
    "```python\n",
    "for osszetevo in soup.find_all('összetevő'):\n",
    "    print(osszetevo.get_text())\n",
    "```"
   ]
  },
  {
   "cell_type": "markdown",
   "metadata": {
    "slideshow": {
     "slide_type": "subslide"
    }
   },
   "source": [
    "# 3.4. Tagek (folytatás)\n",
    "\n",
    "Tag szöveges tartalma (elem): `tag.get_text()`\n",
    "\n",
    "Példa:\n",
    "\n",
    "```python\n",
    "for osszetevo in soup.find_all('összetevő'):\n",
    "    print(osszetevo.get_text())\n",
    "```\n",
    "\n",
    "Tag attribútumai: `tag.attrs` (dict)\n",
    "\n",
    "Példa:\n",
    "\n",
    "```python\n",
    "soup.Recept.attrs\n",
    "```\n",
    "\n",
    "Egy attribútum értéke: `tag['attribútum']` (str)\n",
    "\n",
    "```python\n",
    "soup.Recept['név']\n",
    "```"
   ]
  },
  {
   "cell_type": "markdown",
   "metadata": {
    "slideshow": {
     "slide_type": "subslide"
    }
   },
   "source": [
    "# 3.5. Feladatok\n",
    "\n",
    "Kiinduló pont a `recept.xml` fájl.\n",
    "\n",
    "- Hány összetevő kell a kenyérhez?\n",
    "- Mi a mértékegysége a második összetevőnek?\n",
    "- Mi az utolsó utasítás?\n",
    "- Hány teáskanál 'Só' kell a kenyérhez? (Tegyük fel, hogy nem tudjuk, hányadik összetevő a 'Só'!)"
   ]
  }
 ],
 "metadata": {
  "kernelspec": {
   "display_name": "Python 3",
   "language": "python",
   "name": "python3"
  },
  "language_info": {
   "codemirror_mode": {
    "name": "ipython",
    "version": 3
   },
   "file_extension": ".py",
   "mimetype": "text/x-python",
   "name": "python",
   "nbconvert_exporter": "python",
   "pygments_lexer": "ipython3",
   "version": "3.7.9"
  }
 },
 "nbformat": 4,
 "nbformat_minor": 2
}
