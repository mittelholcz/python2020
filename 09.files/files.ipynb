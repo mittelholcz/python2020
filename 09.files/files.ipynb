{
 "cells": [
  {
   "cell_type": "markdown",
   "metadata": {
    "slideshow": {
     "slide_type": "slide"
    }
   },
   "source": [
    "# Szöveges fájlformátumok\n",
    "\n",
    "---\n",
    "\n",
    "(2021. 02. 12.)\n",
    "\n",
    "Mittelholcz Iván"
   ]
  },
  {
   "cell_type": "markdown",
   "metadata": {
    "slideshow": {
     "slide_type": "slide"
    }
   },
   "source": [
    "# 1. Plain text (TXT)"
   ]
  },
  {
   "cell_type": "markdown",
   "metadata": {
    "slideshow": {
     "slide_type": "subslide"
    }
   },
   "source": [
    "# 1.1. Plain text fájlok soronkénti feldolgozása (*filter*)\n",
    "\n",
    "Séma, a `process()` függvény változtatásával kb. bármilyen, soronként kezelhető problémára jó:\n",
    "\n",
    "```py\n",
    "inp = open('input.txt')\n",
    "out = open('output.txt', 'w')\n",
    "\n",
    "for line in inp:\n",
    "    line = line.strip()\n",
    "    if not line:\n",
    "        continue\n",
    "    res = process(line)\n",
    "    out.write(res)\n",
    "\n",
    "inp.close()\n",
    "out.close()\n",
    "```"
   ]
  },
  {
   "cell_type": "code",
   "execution_count": null,
   "metadata": {},
   "outputs": [],
   "source": [
    "# rossz!!! (minden egyszerre a memoriaban)\n",
    "\n",
    "inp = open('input.txt')\n",
    "text = inp.read()\n",
    "inp.close()\n",
    "\n",
    "res = []\n",
    "for line in text.split('\\n'):\n",
    "    line = line.strip()\n",
    "    if not line:\n",
    "        continue\n",
    "    res.append(process(line))\n",
    "\n",
    "out = open('output.txt', 'w')\n",
    "out.write('\\n'.join(res))\n",
    "out.close()"
   ]
  },
  {
   "cell_type": "markdown",
   "metadata": {
    "slideshow": {
     "slide_type": "subslide"
    }
   },
   "source": [
    "# 1.2. Reguláris kifejezések\n",
    "\n",
    "Modul: `re`\n",
    "\n",
    "Dokumentáció: <https://docs.python.org/3/library/re.html>\n",
    "\n",
    "HOWTO: <https://docs.python.org/3/howto/regex.html#regex-howto>\n",
    "\n",
    "A Python hajlamos a stringekben lecserélni dolgokat (pl. a \\n-t sortörésre, stb.). Hogy ne kelljen mindent kiiszképelni (sőt, az iszképelő backslash-t is iszképelni), ezért minták megadásánál érdemes ún. *raw string*-eket használni, pl. `raw = r'valami\\n'`"
   ]
  },
  {
   "cell_type": "markdown",
   "metadata": {
    "slideshow": {
     "slide_type": "subslide"
    }
   },
   "source": [
    "# 1.3. Keresés\n",
    "\n",
    "A `re.search(pattern, text)` függvény a megadott szövegben keresi a mintát. Ha van találat, akkor az első előfordulással tér vissza (ún. *match object*).\n",
    "\n",
    "Példa:\n",
    "\n",
    "```py\n",
    "import re\n",
    "m = re.search(r'(\\w+) (\\w+) (\\d+)?', 'ritkán rikkant a rigó')\n",
    "if m:\n",
    "    print(m.group(0)) # a teljes illeszkedő szövegrész (nem kell zárójelezve legyen)\n",
    "    print(m.group(1)) # 1-as csoport\n",
    "    print(m.group(2)) # 2-es csopot\n",
    "    print(m.group(3)) # 3-es csopot\n",
    "    print(m.group(1,2)) # tuple az 1-es és a 2-es csoportból\n",
    "```\n",
    "\n",
    "A `re.findall(pattern, text)` függvény a megadott szövegben keresi a minta összes, nem átfedő előfordulását. Az előfordulások listájával tér vissza (ha nem voltak csoportok, akkor stringek listája, ha voltak, akkor tuple-ök listája).\n",
    "\n",
    "Példa:\n",
    "\n",
    "```py\n",
    "m = re.findall(r'((\\d+ )?\\w+)', '100 forintnak 50 a fele')\n",
    "print(m)\n",
    "# [('100 forintnak', '100 '), ('50 a', '50 '), ('fele', '')]\n",
    "```"
   ]
  },
  {
   "cell_type": "markdown",
   "metadata": {
    "slideshow": {
     "slide_type": "subslide"
    }
   },
   "source": [
    "# 1.4. Csere és törlés\n",
    "\n",
    "A `re.sub(pattern, replace, text)` függvény lecseréli a minta előfordulásait a szövegben és a módosított szöveggel tér vissza.\n",
    "\n",
    "A mintában lévő csoportokra `\\szám` formában lehet hivatkozni a csere-szövegben.\n",
    "\n",
    "```py\n",
    "new = re.sub(r'(\\d+)', r'\\1 db', '10 rigó rikkant')\n",
    "print(new)\n",
    "```"
   ]
  },
  {
   "cell_type": "markdown",
   "metadata": {
    "slideshow": {
     "slide_type": "subslide"
    }
   },
   "source": [
    "# 1.5. Mohóság\n",
    "\n",
    "Mohó operátorok: `*`, `+`, `?`\n",
    "\n",
    "Lusta operátorok: `*?`, `+?`, `??`\n",
    "\n",
    "```py\n",
    "string = 'xaaaxaaax'\n",
    "greedy = re.search(r'x.*x', string)\n",
    "lazy = re.search(r'x.*?x', string)\n",
    "print('mohó:', greedy.group())\n",
    "print('lusta:', lazy.group())\n",
    "```"
   ]
  },
  {
   "cell_type": "markdown",
   "metadata": {
    "slideshow": {
     "slide_type": "subslide"
    }
   },
   "source": [
    "# 1.6. Optimalizálás\n",
    "\n",
    "A mintából mindig egy objektum generálodik, ez költésges folyamat. A `re.compile(pattern)` függvénnyel elmenthetjük ezt az objektumot, később számtalanszor újrahasznosíthatjuk. Példa:\n",
    "\n",
    "```py\n",
    "pat = re.compile(pattern)\n",
    "result = pat.search(text)\n",
    "# ugyan az, mint a result = re.search(pattern, text)\n",
    "```\n",
    "\n",
    "Rossz gyakorlat:\n",
    "\n",
    "```py\n",
    "for line in inp:\n",
    "    result = re.findall(pattern, line)\n",
    "```\n",
    "\n",
    "Jó gyakorlat:\n",
    "\n",
    "```py\n",
    "p = re.compile(pattern)\n",
    "for line in inp:\n",
    "    result = p.findall(line)\n",
    "```"
   ]
  },
  {
   "cell_type": "markdown",
   "metadata": {
    "slideshow": {
     "slide_type": "subslide"
    }
   },
   "source": [
    "# 1.7. Feladatok\n",
    "\n",
    "- Írjunk egy függvényt, ami egy szöveget és egy pozitív egész számot vár paraméterként. A függvény adja vissza, hogy hány adott hosszúságú szó van a szövegben. Punktuációk sorozata nem számít szónak.\n",
    "- Írjunk egy függvényt, ami egy stringről eldönti, hogy a római szám-e! A neve legyen `is_roman_num(string)`, visszatérési értéke pedig boolean ([wiki](https://hu.wikipedia.org/wiki/R%C3%B3mai_sz%C3%A1m%C3%ADr%C3%A1s))."
   ]
  },
  {
   "cell_type": "markdown",
   "metadata": {
    "slideshow": {
     "slide_type": "slide"
    }
   },
   "source": [
    "# 2. CSV / TSV\n",
    "\n",
    "CSV: Coma Separated Values\n",
    "\n",
    "TSV: TAB Separated Values\n",
    "\n",
    "Egy sor = egy objektum, egy oszlop = egy tulajdonság, opcionálisan van egy fejléc, az oszlopok nevével.\n",
    "\n",
    "Példa:\n",
    "\n",
    "```txt\n",
    "Név     Fajta   Kor\n",
    "Pongó   dalmata 6\n",
    "Foltos  dalmata 0\n",
    "Ezredes bobtail 15\n",
    "Nózi    vizsla  14\n",
    "```"
   ]
  },
  {
   "cell_type": "markdown",
   "metadata": {
    "slideshow": {
     "slide_type": "subslide"
    }
   },
   "source": [
    "# 2.1. Olvasás\n",
    "\n",
    "Modul: `csv` (a TSV fájlokhoz is ezt használjuk)\n",
    "\n",
    "Dokumentáció: <https://docs.python.org/3/library/csv.html>\n",
    "\n",
    "Példa: TSV sorok beolvasása listába (`process`: listát feldolgozó függvény)\n",
    "\n",
    "```py\n",
    "import csv\n",
    "\n",
    "inp = open('input.tsv')\n",
    "reader = csv.reader(inp, delimiter='\\t')\n",
    "for row in reader:\n",
    "    process(row)\n",
    "```"
   ]
  },
  {
   "cell_type": "code",
   "execution_count": null,
   "metadata": {},
   "outputs": [],
   "source": [
    "import csv\n",
    "\n",
    "class Kutya:\n",
    "    def __init__(self, nev, fajta, kor):\n",
    "        self.nev = nev\n",
    "        self.fajta = fajta\n",
    "        self.kor = kor\n",
    "\n",
    "inp = open('101.tsv')\n",
    "reader = csv.reader(inp, delimiter='\\t')\n",
    "kutyak = []\n",
    "for row in reader:\n",
    "    kutyak.append(Kutya(*row)) # kicsomagolas: Kutya([nev, fajta, kor]) --> Kutya(nev, fajta, kor)\n",
    "\n",
    "for kutya in kutyak:\n",
    "    print(kutya.nev, kutya.fajta, kutya.kor)"
   ]
  },
  {
   "cell_type": "markdown",
   "metadata": {
    "slideshow": {
     "slide_type": "subslide"
    }
   },
   "source": [
    "# 2.2. Írás\n",
    "\n",
    "Példa: listák kiírása TSV fájlba (`data`: listák listája)\n",
    "\n",
    "```py\n",
    "import csv\n",
    "\n",
    "out = open('output.tsv', 'w')\n",
    "writer = csv.writer(out, delimiter='\\t')\n",
    "for row in data:\n",
    "    writer.writerow(row)\n",
    "```"
   ]
  },
  {
   "cell_type": "code",
   "execution_count": null,
   "metadata": {},
   "outputs": [],
   "source": [
    "import csv\n",
    "\n",
    "out = open('output.tsv', 'w')\n",
    "writer = csv.writer(out, delimiter='\\t')\n",
    "for k in kutyak:\n",
    "    writer.writerow([k.nev, k.kor, k.fajta])\n",
    "    \n",
    "out.close()"
   ]
  },
  {
   "cell_type": "markdown",
   "metadata": {
    "slideshow": {
     "slide_type": "subslide"
    }
   },
   "source": [
    "# 2.3. Feladatok\n",
    "\n",
    "- Írjunk egy szkriptet, ami a `101.tsv` fájl alapján kiszámolja a kutyák átlagéletkorát.\n",
    "- Írjunk egy szkriptet, ami tetszőleges szöveges fájlból szógyakoriságot számol, az eredményt egy fejléces TSV fájlba írja ki."
   ]
  },
  {
   "cell_type": "markdown",
   "metadata": {
    "slideshow": {
     "slide_type": "slide"
    }
   },
   "source": [
    "# 3. XML / HTML\n",
    "\n",
    "Példa (l. <https://hu.wikipedia.org/wiki/XML>):\n",
    "\n",
    "```xml\n",
    "<Recept név=\"kenyér\" elk_idő=\"5 perc\" sütés_idő=\"3 óra\">\n",
    "  <cím>Egyszerű kenyér</cím>\n",
    "  <összetevő mennyiség=\"3\" egység=\"csésze\">Liszt</összetevő>\n",
    "  <összetevő mennyiség=\"10\" egység=\"dekagramm\">Élesztő</összetevő>\n",
    "  <összetevő mennyiség=\"1.5\" egység=\"csésze\">Meleg víz</összetevő>\n",
    "  <összetevő mennyiség=\"1\" egység=\"teáskanál\">Só</összetevő>\n",
    "  <Utasítások>\n",
    "    <lépés>Keverj össze minden összetevőt, aztán jól gyúrd össze!</lépés>\n",
    "    <lépés>Fedd le ruhával és hagyd pihenni egy óráig!</lépés>\n",
    "    <lépés>Gyúrd össze újra, aztán süsd meg a sütőben!</lépés>\n",
    "  </Utasítások>\n",
    "</Recept>\n",
    "```"
   ]
  },
  {
   "cell_type": "markdown",
   "metadata": {
    "slideshow": {
     "slide_type": "subslide"
    }
   },
   "source": [
    "# 3.1. Szintaxis\n",
    "\n",
    "- csak séma: jelölő nyelv, bármit leírhat (vs HMTL), nincsenek előre definiált tagek\n",
    "- fa struktúra: egy gyökér elem, minden más az ő \"gyereke\", vagy a gyerekének a gyereke, sít.\n",
    "- *elem*: minden, ami \"fel van címkézve\", pl.\n",
    "\n",
    "  ```xml\n",
    "  <...>liszt</...>\n",
    "  ```\n",
    "\n",
    "- *tag*: címkék az elemeken, kötelező lezárni őket, nem fedhetnek át, pl.\n",
    "\n",
    "  ```xml\n",
    "  <összetevő>...</összetevő>\n",
    "  ```\n",
    "\n",
    "- *attribútum*: plusz információk (kulcs-érték párok) a nyitótageken belül, pl.\n",
    "  ```xml\n",
    "  <... egység=\"csésze\">...</...>\n",
    "  ```"
   ]
  },
  {
   "cell_type": "markdown",
   "metadata": {
    "slideshow": {
     "slide_type": "subslide"
    }
   },
   "source": [
    "# 3.2. Beautifulsoup alapok\n",
    "\n",
    "Dokumentáció: <https://www.crummy.com/software/BeautifulSoup/bs4/doc/>\n",
    "\n",
    "Telepítés (Beautifulsoup és xml parser):\n",
    "\n",
    "```sh\n",
    "pip install beautifulsoup4 lxml\n",
    "```\n",
    "\n",
    "Leveskészítés stringből (xml):\n",
    "\n",
    "```python\n",
    "from bs4 import BeautifulSoup as BS\n",
    "xml = '<összetevő mennyiség=\"3\" egység=\"csésze\">Liszt</összetevő>'\n",
    "soup = BS(xml, 'xml')\n",
    "```\n",
    "\n",
    "Leves fájlból (xml):\n",
    "\n",
    "```py\n",
    "inp = open('recept.xml')\n",
    "soup = BS(inp, 'xml')\n",
    "print(soup.prettify())\n",
    "```"
   ]
  },
  {
   "cell_type": "markdown",
   "metadata": {
    "slideshow": {
     "slide_type": "subslide"
    }
   },
   "source": [
    "# 3.3. Tagek\n",
    "\n",
    "Első a fában: `soup.tag`\n",
    "\n",
    "Példa\n",
    "\n",
    "```python\n",
    "print(soup.cím)\n",
    "print(soup.összetevő)\n",
    "```\n",
    "\n",
    "Összes a fában: `soup.find_all(tag)` (listaszerű)\n",
    "\n",
    "Példa:\n",
    "\n",
    "```python\n",
    "for osszetevo in soup.find_all('összetevő'):\n",
    "    print(osszetevo.get_text())\n",
    "```"
   ]
  },
  {
   "cell_type": "markdown",
   "metadata": {
    "slideshow": {
     "slide_type": "subslide"
    }
   },
   "source": [
    "# 3.4. Tagek (folytatás)\n",
    "\n",
    "Tag szöveges tartalma (elem): `tag.get_text()`\n",
    "\n",
    "Példa:\n",
    "\n",
    "```python\n",
    "for osszetevo in soup.find_all('összetevő'):\n",
    "    print(osszetevo.get_text())\n",
    "```\n",
    "\n",
    "Tag attribútumai: `tag.attrs` (dict)\n",
    "\n",
    "Példa:\n",
    "\n",
    "```python\n",
    "soup.Recept.attrs\n",
    "```\n",
    "\n",
    "Egy attribútum értéke: `tag['attribútum']` (str)\n",
    "\n",
    "```python\n",
    "soup.Recept['név']\n",
    "```"
   ]
  },
  {
   "cell_type": "markdown",
   "metadata": {
    "slideshow": {
     "slide_type": "subslide"
    }
   },
   "source": [
    "# 3.5. Feladatok\n",
    "\n",
    "Kiinduló pont a `recept.xml` fájl.\n",
    "\n",
    "- Hány összetevő kell a kenyérhez?\n",
    "- Mi a mértékegysége a második összetevőnek?\n",
    "- Mi az utolsó utasítás?\n",
    "- Hány teáskanál 'Só' kell a kenyérhez? (Tegyük fel, hogy nem tudjuk, hányadik összetevő a 'Só'!)"
   ]
  },
  {
   "cell_type": "markdown",
   "metadata": {
    "slideshow": {
     "slide_type": "slide"
    }
   },
   "source": [
    "# Köszönöm a figyelmet!"
   ]
  }
 ],
 "metadata": {
  "kernelspec": {
   "display_name": "Python 3",
   "language": "python",
   "name": "python3"
  },
  "language_info": {
   "codemirror_mode": {
    "name": "ipython",
    "version": 3
   },
   "file_extension": ".py",
   "mimetype": "text/x-python",
   "name": "python",
   "nbconvert_exporter": "python",
   "pygments_lexer": "ipython3",
   "version": "3.7.9"
  }
 },
 "nbformat": 4,
 "nbformat_minor": 2
}
