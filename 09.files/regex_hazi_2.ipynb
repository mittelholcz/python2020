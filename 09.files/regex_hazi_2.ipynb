{
 "cells": [
  {
   "cell_type": "code",
   "execution_count": null,
   "metadata": {},
   "outputs": [],
   "source": [
    "import re\n",
    "def get_month(text):\n",
    "    m = re.search(r'\\s\\d\\d[.]\\s', text)\n",
    "    honap = None\n",
    "    if m: # ez uaz, mint \"if bool(m) == True:\"\n",
    "        if m.group(0) == ' 05. ': \n",
    "            honap = 'május' \n",
    "        elif m.group(0) == ' 04. ':\n",
    "            honap = 'április'\n",
    "    #else: # ez nem kell, l. 4. sor\n",
    "    #    honap = None\n",
    "    return honap\n",
    "\n",
    "honap = get_month('1981. 0v4. 09.')\n",
    "print(honap)\n"
   ]
  },
  {
   "cell_type": "code",
   "execution_count": null,
   "metadata": {},
   "outputs": [],
   "source": [
    "def get_month(text):\n",
    "    m = re.search(r'\\s(\\d\\d)[.]\\s', text)\n",
    "    months = {\n",
    "        '01': 'januar',\n",
    "        '02': 'februar',\n",
    "        '03': 'marcius'\n",
    "    }\n",
    "    honap = None\n",
    "    if m:\n",
    "        honap = months[m.group(1)]\n",
    "    return honap\n",
    "\n",
    "honap = get_month('1981. 02. 09.')\n",
    "print(honap)"
   ]
  },
  {
   "cell_type": "markdown",
   "metadata": {},
   "source": [
    "Házi\n",
    "A feladat ez volt: Írjunk egy függvényt, ami a yyyy. mm. dd. formátumú dátumból megmondja a hónapot. \n",
    "    Pl. a get_month('1981. 08. 08.') visszaadja, hogy augusztus). Rossz bemenetre None értéket adjon vissza.\n",
    "Azt hiszem, nem fogalmaztam elég pontosan, szóval a függvény paramétere egy darab string kéne legyen, nem egy lista. \n",
    "A string pedig egy darab dátumot taralmaz, semmi mást (ahogy a példában is van). \n",
    "Nem kell for-ciklus, nem kell eredményeket gyűjtő lista (honap = []) sem. \n",
    "A text2date()-beli findall() kimenete viszont lista. Ennek nincs group() metódusa, amit a convert() hívna, \n",
    "ezért a hiba (group()-ja csak a re.search() kimenetének van). A text2date-en ne változtass, az jó volt úgy, ahogy volt! \n",
    "A get_month() függvénynek kell tudnia a dátumban megtalálnia a hónapot, ehhez a search() metódust ajánlom.\n",
    "Ha megvan a hónap, akkor a hónap számának stringre konvertálására több lehetőség van. \n",
    "Az egyik az általad is elkezdett if-elif-else, de ha nem akarsz 12 ágú elágazást írni, akkor használhatsz szótárat is, \n",
    "ahol a kulcsok a hónapok számmal (stringben!), az értékek pedig a hónapok névvel.\n",
    "\n",
    "Írjunk egy függvényt, ami a yyyy. mm. dd. formátumú dátumból megmondja a hónapot. Pl. a get_month('1981. 08. 08.') visszaadja, \n",
    "hogy augusztus). Rossz bemenetre None értéket adjon vissza.\n",
    "\n"
   ]
  },
  {
   "cell_type": "code",
   "execution_count": null,
   "metadata": {},
   "outputs": [],
   "source": [
    "import re\n",
    "def text2dates(text):\n",
    "    m = re.findall(r'(\\d\\d\\d\\d[.]\\s)(\\d\\d[.])(\\s\\d\\d[.])', text)\n",
    "    return m\n",
    "\n",
    "def convert(m):\n",
    "    honap = []\n",
    "    if m.group(2) == '08':\n",
    "        honap.append('augusztus')\n",
    "    return honap\n",
    "    \n",
    "d = text2dates('Roger Federer 1981. 08. 08. a Bázel környéki Binningenben született. 1982. 08. 08.-án volt 1 éves.')\n",
    "honap_irva = convert(d)\n",
    "print(d)\n",
    "print(honap_irva)"
   ]
  },
  {
   "cell_type": "code",
   "execution_count": null,
   "metadata": {},
   "outputs": [],
   "source": [
    "import re\n",
    "def text2dates(text):\n",
    "    m = re.findall(r'(\\d\\d\\d\\d[.]\\s)(\\d\\d[.])(\\s\\d\\d[.])', text)\n",
    "    return m\n",
    "\n",
    "def convert(m):\n",
    "    honap = []\n",
    "    if m.group(2) == '08':\n",
    "        honap.append('augusztus')\n",
    "    return honap\n",
    "    \n",
    "d = text2dates('Roger Federer 1981. 08. 08. a Bázel környéki Binningenben született. 1982. 08. 08.-án volt 1 éves.')\n",
    "honap_irva = convert(d)\n",
    "print(d)\n",
    "print(honap_irva)"
   ]
  }
 ],
 "metadata": {
  "kernelspec": {
   "display_name": "Python 3",
   "language": "python",
   "name": "python3"
  },
  "language_info": {
   "codemirror_mode": {
    "name": "ipython",
    "version": 3
   },
   "file_extension": ".py",
   "mimetype": "text/x-python",
   "name": "python",
   "nbconvert_exporter": "python",
   "pygments_lexer": "ipython3",
   "version": "3.7.9"
  }
 },
 "nbformat": 4,
 "nbformat_minor": 2
}
