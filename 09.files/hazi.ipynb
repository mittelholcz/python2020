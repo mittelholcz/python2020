{
 "cells": [
  {
   "cell_type": "code",
   "execution_count": 5,
   "metadata": {},
   "outputs": [
    {
     "name": "stdout",
     "output_type": "stream",
     "text": [
      "2.0\n",
      "vegyes hangrend\n"
     ]
    }
   ],
   "source": [
    "# 1. feladat egyszerűsítve\n",
    "import csv\n",
    "\n",
    "class Szocikk:\n",
    "    def __init__(self, szo, jelentes, szofaj):\n",
    "        self.szo = szo\n",
    "        self.jelentes = jelentes\n",
    "        self.szofaj = szofaj\n",
    "        \n",
    "    def hossz(self):\n",
    "        return len(self.szo) / 2\n",
    "\n",
    "cipő = Szocikk('cipő', 'lábbeli', 'főnév')\n",
    "kalap = Szocikk('kalap', 'fejfedő', 'főnév')\n",
    "házi = Szocikk('házi', 'feladat', 'melléknév')\n",
    "   \n",
    "print(házi.hossz())\n",
    "\n",
    "\n",
    "# 1. feladat nem egyszerűsítve\n",
    "import csv\n",
    "\n",
    "class Szocikk:\n",
    "    def __init__(self, szo, jelentes, szofaj):\n",
    "        self.szo = szo\n",
    "        self.jelentes = jelentes\n",
    "        self.szofaj = szofaj\n",
    "        \n",
    "    def hang(self):\n",
    "        ma = {'e', 'é', 'i', 'í', 'ö', 'ő', 'ü', 'ű'}\n",
    "        me = {'a', 'á', 'o', 'ó', 'u', 'ú'}\n",
    "        hang = []\n",
    "        for ch in self.szo:\n",
    "            if ch in ma:\n",
    "                hang.append(1)\n",
    "            if ch in me:\n",
    "                hang.append(0.01)\n",
    "        hangertek = sum(hang)\n",
    "        if hangertek < 1:\n",
    "            return 'mely hangrend'\n",
    "        elif 1 <= hangertek and hangertek % 1 == 0:\n",
    "            return 'magas hangrend'\n",
    "        else:\n",
    "            return 'vegyes hangrend'\n",
    "\n",
    "        \n",
    "            \n",
    "cipő = Szocikk('cipő', 'lábbeli', 'főnév')\n",
    "kalap = Szocikk('kalap', 'fejfedő', 'főnév')\n",
    "házi = Szocikk('házi', 'feladat', 'melléknév')\n",
    "   \n",
    "\n",
    "print(házi.hang())\n",
    "\n",
    "# 2. feladat nem függvénnyel\n",
    "#inp = open('szocikkek.tsv')\n",
    "#reader = csv.reader(inp, delimiter='\\t')\n",
    "#szocikk_lista = []\n",
    "#for row in reader:\n",
    "#    szocikk_lista.append(Szocikk(*row))\n",
    "\n",
    "# 2. feladat függvénnyel\n",
    "#def get_szocikk():\n",
    "#    print('Melyik tsv fájlban vannak a szócikkek?')\n",
    "#    filename = input()\n",
    "#    f = open(filename, 'r')\n",
    "#    text = f.read() \n",
    "#    szocikk_lista = []\n",
    "#    for row in text:\n",
    "#        szocikk_lista.append(Szocikk(*row))\n",
    "#    f.close()\n",
    "#    return szocikk_lista\n",
    "\n",
    "#lista = get_szocikk()"
   ]
  },
  {
   "cell_type": "code",
   "execution_count": null,
   "metadata": {},
   "outputs": [],
   "source": [
    "mely = bool(set('alma') & {'a', 'o', 'u'})\n",
    "magas = bool(set('alma') & {'e', 'i'})\n",
    "print(mely, magas)"
   ]
  },
  {
   "cell_type": "code",
   "execution_count": null,
   "metadata": {},
   "outputs": [],
   "source": [
    "1. Csináj egy osztályt (class), ami szócikkeket tud reprezentálni. A szócikk osztálynak legyen három változója: \n",
    "    szó, jelentés , szófaj (mindhárom sima string). Legyen egy metódusa is, ami megmondja az adott szó hangrendjét \n",
    "    (mély, ha csak a, á, o, ó, u vagy ú magánhangzókat tartalmaz, magas, ha ilyeneket nem \n",
    "     és vegyes, ha magas és mély magánhangzókat is tartalmaz).\n",
    "2. Legyen egy függvény, aminek egy tsv fájlt lehet megadni paraméterként. A tsv fájl tartalmazzon soronként \n",
    "egy \"szócikkeket\" (szó, jelentés, szófaj, tab-bal elválasztva). A függvény olvassa be a fájlt, minden szóból csináljon \n",
    "egy szócikket és térjen vissza a szócikkek listáját.\n",
    "3. Lehen egy lekérdező függvény. Első paramétere szócikkek listája, második egy keresett szó. Ha a szócikkek listája \n",
    "tartalmazza a keresett szót, akkor térjen vissza egy stringgel, ami tartalmazza a keresett szó jelentését, \n",
    "\n",
    "szófaját és hangrendjét. Ha a lista nem tartalmazza a keresett szót, akkor üres stringet adjon vissza."
   ]
  }
 ],
 "metadata": {
  "kernelspec": {
   "display_name": "Python 3",
   "language": "python",
   "name": "python3"
  },
  "language_info": {
   "codemirror_mode": {
    "name": "ipython",
    "version": 3
   },
   "file_extension": ".py",
   "mimetype": "text/x-python",
   "name": "python",
   "nbconvert_exporter": "python",
   "pygments_lexer": "ipython3",
   "version": "3.7.9"
  }
 },
 "nbformat": 4,
 "nbformat_minor": 2
}
