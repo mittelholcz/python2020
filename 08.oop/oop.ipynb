{
 "cells": [
  {
   "cell_type": "markdown",
   "metadata": {
    "slideshow": {
     "slide_type": "slide"
    }
   },
   "source": [
    "# Objektumorientált programozás és egyebek\n",
    "\n",
    "---\n",
    "\n",
    "(2021. 02. 05.)\n",
    "\n",
    "Mittelholcz Iván"
   ]
  },
  {
   "cell_type": "markdown",
   "metadata": {
    "slideshow": {
     "slide_type": "slide"
    }
   },
   "source": [
    "# 1. Objektumorientált programozás"
   ]
  },
  {
   "cell_type": "code",
   "execution_count": null,
   "metadata": {},
   "outputs": [],
   "source": [
    "nevek = ['janos', 'mari', 'peter', 'bela']\n",
    "szultesi_evek = [1956, 1996, 2001, 1990]\n",
    "fizetes = [300, 250, 310, 200]\n",
    "sorted(fizetes)\n",
    "alkalmazottak = [('mari', 1996, 200), ('peter', 2001, 250)]\n",
    "alkalmazottak = {'mari': (1996, 200), 'peter': (2001, 250)}\n",
    "alkalmazottak['janos'] = (1987, 300)\n",
    "alkalmazottak\n",
    "del alkalmazottak['peter']\n",
    "alkalmazottak"
   ]
  },
  {
   "cell_type": "markdown",
   "metadata": {
    "slideshow": {
     "slide_type": "subslide"
    }
   },
   "source": [
    "# 1.1. Felhasználói típusok\n",
    "\n",
    "Alapfogalmak:\n",
    "\n",
    "- Osztály (class, type): Dolgok egy modellezendő csoportja (számok, szavak, emberek, épületek, akármi).\n",
    "- Objektum (object, instance): Osztályok példányai vagy egyedei.\n",
    "\n",
    "Változók / adatok:\n",
    "\n",
    "- Osztályváltozó: Osztály szintű változók (minden példánynál egyezik az értékük)\n",
    "- **Példányváltozó**: Példány szintű változók (minden példánynak saját van). Általában a konstruktorban definiáljuk őket.\n",
    "\n",
    "Függvények / metódusok:\n",
    "\n",
    "- Osztálymetódus: Az osztály egészével kapcsolatos függvény, ami csak osztályváltozókhoz fér hozzá.\n",
    "- **Példánymetódus**: Olyan függvény, ami csak egy-egy példánnyal kapcsolatos, osztály- és példányváltozókhoz egyaránt hozzáfér."
   ]
  },
  {
   "cell_type": "markdown",
   "metadata": {
    "slideshow": {
     "slide_type": "subslide"
    }
   },
   "source": [
    "# 1.2. Példa"
   ]
  },
  {
   "cell_type": "code",
   "execution_count": null,
   "metadata": {
    "slideshow": {
     "slide_type": "subslide"
    }
   },
   "outputs": [],
   "source": [
    "from datetime import date\n",
    "\n",
    "class Person:\n",
    "\n",
    "    # konstruktor:\n",
    "    def __init__(self, name, year, fizetes=300):\n",
    "        self.name = name\n",
    "        self.year = year\n",
    "        self.salary = fizetes\n",
    "   \n",
    "    def get_age(self):\n",
    "        return date.today().year - self.year\n",
    "    \n",
    "    def fizetesemeles(self, osszeg):\n",
    "        self.salary += osszeg\n",
    "\n",
    "# peldanyositas\n",
    "mari = Person('Mária', 1969, 500)\n",
    "\n",
    "# peldany valtozoinak elerese, hasznalata\n",
    "print('nev:', mari.name)\n",
    "print('nev hossza:', len(mari.name))\n",
    "print('fizetes:', mari.salary)\n",
    "eletkor = 2021 - mari.year\n",
    "print('eletkor:', eletkor)\n",
    "\n",
    "# metodusok hasznalata\n",
    "eletkor = mari.get_age()  # ez ugyan az, mint ez: Person.get_age(mari)\n",
    "print('eletkor maskepp:', eletkor)\n",
    "mari.fizetesemeles(50)\n",
    "print('elso fizetesemeles:', mari.salary)\n",
    "mari.fizetesemeles(-100)\n",
    "print('masodik fizetesemeles:', mari.salary)\n",
    "\n",
    "\n",
    "# peldak sok alkalmazott kezelesere\n",
    "\n",
    "peter = Person('Peter', 1983)\n",
    "judit = Person('Judit', 1999, 350)\n",
    "\n",
    "alkalmazottak = [mari, peter, judit]\n",
    "\n",
    "osszes_fizetes = 0\n",
    "osszes_eletkor = 0\n",
    "for alkalmazott in alkalmazottak:\n",
    "    osszes_fizetes += alkalmazott.salary\n",
    "    osszes_eletkor += alkalmazott.get_age()\n",
    "\n",
    "print('osszes fizetes:', osszes_fizetes)\n",
    "print('atlagfizetes:', osszes_fizetes/len(alkalmazottak))\n",
    "print('atlageletkor:', osszes_eletkor/len(alkalmazottak))"
   ]
  },
  {
   "cell_type": "code",
   "execution_count": null,
   "metadata": {},
   "outputs": [],
   "source": [
    "# egy sima osszeadas mogott is metodushivas van...\n",
    "3 + 4\n",
    "x = int(3)\n",
    "x.__add__(4)"
   ]
  },
  {
   "cell_type": "markdown",
   "metadata": {
    "slideshow": {
     "slide_type": "subslide"
    }
   },
   "source": [
    "# 1.3. Szintaxis\n",
    "\n",
    "- definíció: `class` + név + `:`, alatta indentálva a változók és metódusok\n",
    "\n",
    "- példányfüggvény (metódus):\n",
    "    - definiálása: Sima függvénydefiníció a `class` alatt indentálva. Első paramétere legyen mindig a `self`!\n",
    "    - hívása: Példányon lehet meghívni, ponttal elválasztva (`peldany.metodus(...)`). Az első paramétert (`self`) soha nem kell megadni (az a példány maga – olyan, mintha azt mondanák: `metodus(peldany, ...)`).\n",
    "- példányváltozó: \n",
    "    - definiálása: *konstruktor* függvényben adjuk meg (`def __init__(self, x): self.x = x`)\n",
    "    - hivatkozás rá: Példányon, ponttal elválasztva (`peldany.x` vagy értékadásnál `peldany.x = 11`)\n",
    "- *konstruktor*: speciális példányfüggvény, célja egy példány létrehozása. Neve mindig `__init__`, első paramétere szokás szerint a `self`. Nem hívjuk közvetlenül (l. példányosítás).\n",
    "- példányosítás: Az osztály nevét függvényként hívjuk, a konstruktor paramétereivel (`self` nélkül). A háttérben a konstruktor fut le.\n",
    "\n",
    "  ```py\n",
    "  Osztaly(param1, param2, ...)\n",
    "  ```"
   ]
  },
  {
   "cell_type": "markdown",
   "metadata": {
    "slideshow": {
     "slide_type": "subslide"
    }
   },
   "source": [
    "# 1.4. Öröklődés\n",
    "\n",
    "Egy osztály alosztálya, specializált részhalmaza (pl. szó–ige, ember–nyelvész, stb.) örökli az alap osztály változóit és metódusait. Szokás \"*is a*\" relációnak is hívni, szemben a példányváltozók jelentette \"*has a*\" relációval.\n",
    "\n",
    "\n",
    "Szintaxis: Osztály definiálásánál az osztály neve után zárójelben szerepel az ős osztály. Az ősre a `super()` függvénnyel lehet hivatkozni.\n",
    "\n",
    "Példa:"
   ]
  },
  {
   "cell_type": "code",
   "execution_count": null,
   "metadata": {
    "slideshow": {
     "slide_type": "subslide"
    }
   },
   "outputs": [],
   "source": [
    "class Linguist(Person):\n",
    "    def __init__(self, name, year, fizetes=250, spec='általános nyelvészet'):\n",
    "        self.spec = spec\n",
    "        super().__init__(name, year, fizetes)\n",
    "    def get_info(self):\n",
    "        return '{0} {1} éves, szakterülete a {2}.'.format(\n",
    "            self.name, self.get_age(), self.spec)\n",
    "\n",
    "chom = Linguist('Chomsky', 1928, 300, 'szintaxis')\n",
    "print(chom.get_info())\n",
    "print(chom.salary)\n",
    "chom.fizetesemeles(100)\n",
    "print(chom.salary)"
   ]
  },
  {
   "cell_type": "markdown",
   "metadata": {
    "slideshow": {
     "slide_type": "subslide"
    }
   },
   "source": [
    "# 1.5. Irodalom\n",
    "\n",
    "- <https://docs.python.org/3/tutorial/classes.html>\n",
    "- <https://realpython.com/python3-object-oriented-programming/>"
   ]
  },
  {
   "cell_type": "markdown",
   "metadata": {
    "slideshow": {
     "slide_type": "subslide"
    }
   },
   "source": [
    "# 2. Listák, halmazok és szótárak röviden"
   ]
  },
  {
   "cell_type": "code",
   "execution_count": null,
   "metadata": {
    "slideshow": {
     "slide_type": "subslide"
    }
   },
   "outputs": [],
   "source": [
    "# listák\n",
    "\n",
    "l1 = [1, 2, 3, 4, 5, 6, 7, 8, 9]\n",
    "print('l1', l1)\n",
    "\n",
    "# hagyomanyos modon\n",
    "#l2 = []\n",
    "#for i in l1:\n",
    "#    if i % 2 != 0:\n",
    "#        l2.append(i)\n",
    "#print('l2', l2)\n",
    "#l3 = []\n",
    "#for i in l2:\n",
    "#    l3.append(i*i)\n",
    "#print('l3', l3)\n",
    "\n",
    "# szűrés (csak páratlanok):\n",
    "l2 = [x for x in l1 if x % 2 != 0]\n",
    "print('l2', l2)\n",
    "\n",
    "# leképezés (négyzetszámokra):\n",
    "l3 = [x*x for x in l2]\n",
    "print('l3', l3)\n",
    "\n",
    "# egy lépésben:\n",
    "l4 = [x**2 for x in l1 if x % 2 != 0]\n",
    "print('l4', l4)"
   ]
  },
  {
   "cell_type": "code",
   "execution_count": null,
   "metadata": {
    "slideshow": {
     "slide_type": "subslide"
    }
   },
   "outputs": [],
   "source": [
    "# halmazok és szótárak\n",
    "\n",
    "text = 'alma alma piros alma'\n",
    "\n",
    "def hulyepelda(x):\n",
    "    return x+2\n",
    "\n",
    "# szöveg szavainak halmaza:\n",
    "s = {w for w in text.split()}\n",
    "print('s', s)\n",
    "# szavak és hosszúságaik szótára:\n",
    "d = {w.upper(): hulyepelda(len(w)) for w in text.split()}\n",
    "print('d', d)"
   ]
  }
 ],
 "metadata": {
  "kernelspec": {
   "display_name": "Python 3",
   "language": "python",
   "name": "python3"
  },
  "language_info": {
   "codemirror_mode": {
    "name": "ipython",
    "version": 3
   },
   "file_extension": ".py",
   "mimetype": "text/x-python",
   "name": "python",
   "nbconvert_exporter": "python",
   "pygments_lexer": "ipython3",
   "version": "3.7.9"
  }
 },
 "nbformat": 4,
 "nbformat_minor": 2
}
