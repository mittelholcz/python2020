{
 "cells": [
  {
   "cell_type": "markdown",
   "metadata": {
    "slideshow": {
     "slide_type": "slide"
    }
   },
   "source": [
    "# Függvények\n",
    "\n",
    "---\n",
    "\n",
    "(2020. 10. 30. – 7. óra)\n",
    "\n",
    "Mittelholcz Iván"
   ]
  },
  {
   "cell_type": "markdown",
   "metadata": {
    "slideshow": {
     "slide_type": "skip"
    }
   },
   "source": [
    "# Vázlat\n",
    "\n",
    "- szintaxis: definíció, hívás\n",
    "- default paraméter\n",
    "- átadás\n",
    "- lambda\n",
    "- mellékhatás, copy"
   ]
  },
  {
   "cell_type": "markdown",
   "metadata": {
    "slideshow": {
     "slide_type": "slide"
    }
   },
   "source": [
    "# Függvény definíciója\n",
    "\n",
    "<br>\n",
    "\n",
    "```py\n",
    "def fuggvenynev(param1, param2, ..., paramX):\n",
    "    utasitas1\n",
    "    utasitas2\n",
    "    ...\n",
    "    return visszateresi_ertek\n",
    "```\n",
    "\n",
    "- a `def` kulcsszó jelenti, hogy itt egy függvény definíciója következik\n",
    "- a függvény neve bármilyen érvényes változónév lehet, tartalmazhat betűt, alulvonást és számot (de számmal nem kezdődhet)\n",
    "- a paraméterek nevei érvényes változónevek lehetnek és csak a függvényben érvényesek (más függvényekben lévő változók el lesznek \"takarva\")\n",
    "- utasítások: bármilyen érvényes python utasítás lehet egy függvényben\n",
    "- a `return` opcionális, ha nincs, akkor is van, és visszatérési érték `None` lesz "
   ]
  },
  {
   "cell_type": "markdown",
   "metadata": {
    "slideshow": {
     "slide_type": "subslide"
    }
   },
   "source": [
    "# Függvény hívása\n",
    "\n",
    "Ha kíváncsiak vagyunk az eredményre:\n",
    "\n",
    "```py\n",
    "valtozo = fuggvenynev(param1, param2, ..., paramX)\n",
    "```\n",
    "\n",
    "Ha csak a mellékhatás miatt hívjuk:\n",
    "\n",
    "```py\n",
    "fuggvenynev(param1, param2, ..., paramX)\n",
    "```\n",
    "\n",
    "- a paraméterek lehetnek változók de közvetlen értékek is\n",
    "- ha változók, akkor nem kell hogy azonos nevűek legyenek a függvény definíciójában lévőkkel"
   ]
  },
  {
   "cell_type": "markdown",
   "metadata": {
    "slideshow": {
     "slide_type": "subslide"
    }
   },
   "source": [
    "# Alapértelmezett paraméterek\n",
    "\n",
    "Definíció:\n",
    "\n",
    "```py\n",
    "def fuggvenynev(param1, param2, ... defparam1=val1, defparam2=val2, ...):\n",
    "```\n",
    "\n",
    "Hívás:\n",
    "\n",
    "```py\n",
    "# pozíció szerint\n",
    "fuggvenynev(param1, param2)\n",
    "fuggvenynev(param1, param2, val1)\n",
    "fuggvenynev(param1, param2, val1, val2)\n",
    "# vagy nev szerint (csak a pozíció szerintiek után)\n",
    "fuggvenynev(param1, param2, defparam2=val2)\n",
    "# rossz: fuggvenynev(defparam2=val2, param1, param2)\n",
    "```"
   ]
  },
  {
   "cell_type": "markdown",
   "metadata": {
    "slideshow": {
     "slide_type": "subslide"
    }
   },
   "source": [
    "# First class citizen\n",
    "\n",
    "- átadható más függvénynek paraméterként\n",
    "- lehet függvény visszatérési értéke\n",
    "- változónak lehet értékül adni\n",
    "\n",
    "Példa paraméterként átadásra:\n",
    "\n",
    "```py\n",
    "d = {'a': 3, 'b': 2, 'c': 7}\n",
    "\n",
    "def get_value(item):\n",
    "    return item[1]\n",
    "\n",
    "sorted(d.items(), key=get_value)\n",
    "sorted(d.items(), key=get_value, reverse=True)\n",
    "```"
   ]
  },
  {
   "cell_type": "markdown",
   "metadata": {
    "slideshow": {
     "slide_type": "subslide"
    }
   },
   "source": [
    "# Lambda-függvények\n",
    "\n",
    "```py\n",
    "lambda param1, param2, ... : return_value\n",
    "```\n",
    "\n",
    "- rövid (egy soros), névtelen függvek\n",
    "- általában egyszer használjuk, más függvény paramétereként\n",
    "- ha nagyon szeretnénk többször használni, akkor eltárolhatjuk egy változóban (de inkább ne)\n",
    "- nincs `return`, de a `:` utáni kifejezés kiértékelődik és rendes visszatérési érték adódik vissza\n",
    "\n",
    "Példa (`sorted()`, még egyszerűbben):\n",
    "\n",
    "```py\n",
    "d = {'a': 3, 'b': 2, 'c': 7}\n",
    "\n",
    "sorted(d.items(), key=lambda x: x[1])\n",
    "```"
   ]
  },
  {
   "cell_type": "markdown",
   "metadata": {
    "slideshow": {
     "slide_type": "slide"
    }
   },
   "source": [
    "# Feladatok\n",
    "\n",
    "- Írjunk egy függvényekből álló programot, ami szógyakoriságot számol:\n",
    "    - legyen benne egy függvény, ami tetszőleges szöveget fogad és egy szótárat ad vissza, amiben a szavak gyakorisásga van\n",
    "    - legyen benne egy függvény, ami egy gyakorisági szótárat fogad és `(szó, előfordulás)` tuple-ök listáját adja vissza előfordulás szerint csökkenő sorrendbe rendezve\n",
    "    - legyen egy függvény, ami a kiírást intézi\n",
    "\n",
    "- Írjunk egy függvényt, ami egy tetszőleges sorozatot és egy igaz/hamissal visszatérő tetszőleges függvényt fogad. Térjen vissza azzal a legnagyobb elemmel, amire igaz a függvény"
   ]
  },
  {
   "cell_type": "code",
   "execution_count": null,
   "metadata": {},
   "outputs": [],
   "source": [
    "# globalis es lokalis valtozok\n",
    "\n",
    "kulso = 10\n",
    "\n",
    "def fuggveny():\n",
    "    kulso = 5\n",
    "    belso = 11\n",
    "    print('bent vagyok', kulso)\n",
    "    print('bent vagyok', belso)\n",
    "    \n",
    "fuggveny()\n",
    "print('kint vagyok', kulso)\n",
    "print('kint vagyok', belso) # hiba, kivulrol nem lathatok a lokalis valtozok!"
   ]
  },
  {
   "cell_type": "code",
   "execution_count": null,
   "metadata": {},
   "outputs": [],
   "source": [
    "# ilyesmi egy program felepitese (globalis valtozok, fuggvenyek, lokalis valtozok, es fuggvenyhivasok a vegen)\n",
    "\n",
    "globalis = 10\n",
    "\n",
    "def fun1():\n",
    "    print('fun1 vagyok!')\n",
    "\n",
    "def fun2(input):\n",
    "    lokalis = 20\n",
    "    print('fun2 vagyok!', lokalis)\n",
    "\n",
    "def fun3():\n",
    "    print('fun3 vagyok!', globalis)\n",
    "    return 30\n",
    "    \n",
    "fun1()\n",
    "x = fun3() * 3\n",
    "fun2(x)"
   ]
  },
  {
   "cell_type": "code",
   "execution_count": null,
   "metadata": {},
   "outputs": [],
   "source": [
    "TEXT = 'alma alma piros alma'\n",
    "\n",
    "def word_freq(text):\n",
    "    freq = {}\n",
    "    text = text.split()\n",
    "    for word in text:\n",
    "        if word in freq:\n",
    "            freq[word] += 1\n",
    "        else:\n",
    "            freq[word] = 1\n",
    "    return freq\n",
    "\n",
    "def get_value(item):\n",
    "    return item[1]\n",
    "\n",
    "def sort_freq(freq):\n",
    "    result = sorted(freq.items(), key=get_value, reverse=True)\n",
    "    return result\n",
    "\n",
    "def writer(x):\n",
    "    for item in x:\n",
    "        print(item[1], item[0])\n",
    "\n",
    "alma_freq = word_freq(TEXT)\n",
    "sorted_alma_freq = sort_freq(alma_freq)\n",
    "writer(sorted_alma_freq)\n",
    "\n",
    "print()\n",
    "\n",
    "writer(sort_freq(word_freq(TEXT)))"
   ]
  },
  {
   "cell_type": "code",
   "execution_count": null,
   "metadata": {},
   "outputs": [],
   "source": [
    "# lambda fuggveny\n",
    "\n",
    "def pelda(x):\n",
    "    return 2*x\n",
    "\n",
    "f = lambda x: 2*x\n",
    "\n",
    "pelda(3)\n",
    "f(3)"
   ]
  },
  {
   "cell_type": "code",
   "execution_count": null,
   "metadata": {},
   "outputs": [],
   "source": [
    "# cizellalas 1.: lambda\n",
    "\n",
    "TEXT = 'alma alma piros alma'\n",
    "\n",
    "def word_freq(text):\n",
    "    freq = {}\n",
    "    text = text.split()\n",
    "    for word in text:\n",
    "        if word in freq:\n",
    "            freq[word] += 1\n",
    "        else:\n",
    "            freq[word] = 1\n",
    "    return freq\n",
    "\n",
    "#def get_value(item):\n",
    "#    return item[1]\n",
    "\n",
    "def sort_freq(freq):\n",
    "    result = sorted(freq.items(), key=lambda item: item[1], reverse=True)\n",
    "    return result\n",
    "\n",
    "def writer(x):\n",
    "    for item in x:\n",
    "        print(item[1], item[0])\n",
    "\n",
    "alma_freq = word_freq(TEXT)\n",
    "sorted_alma_freq = sort_freq(alma_freq)\n",
    "writer(sorted_alma_freq)\n",
    "\n",
    "print()\n",
    "\n",
    "writer(sort_freq(word_freq(TEXT)))"
   ]
  },
  {
   "cell_type": "code",
   "execution_count": null,
   "metadata": {},
   "outputs": [],
   "source": [
    "# input\n",
    "\n",
    "a = input()\n",
    "print(a)\n",
    "\n",
    "# minden input string, ha mas kell, akkor konvertalni kell\n",
    "num = input()\n",
    "num = int(num)\n",
    "print(f(num))"
   ]
  },
  {
   "cell_type": "code",
   "execution_count": null,
   "metadata": {},
   "outputs": [],
   "source": [
    "# cizellalas 2.: input\n",
    "\n",
    "def word_freq(text):\n",
    "    freq = {}\n",
    "    text = text.split()\n",
    "    for word in text:\n",
    "        if word in freq:\n",
    "            freq[word] += 1\n",
    "        else:\n",
    "            freq[word] = 1\n",
    "    return freq\n",
    "\n",
    "#def get_value(item):\n",
    "#    return item[1]\n",
    "\n",
    "def sort_freq(freq):\n",
    "    result = sorted(freq.items(), key=lambda item: item[1], reverse=True)\n",
    "    return result\n",
    "\n",
    "def writer(x):\n",
    "    for item in x:\n",
    "        print(item[1], item[0])\n",
    "\n",
    "print('Irj be egy szoveget:')\n",
    "#TEXT = input()\n",
    "#alma_freq = word_freq(TEXT)\n",
    "#sorted_alma_freq = sort_freq(alma_freq)\n",
    "#writer(sorted_alma_freq)\n",
    "\n",
    "writer(sort_freq(word_freq(input())))"
   ]
  },
  {
   "cell_type": "code",
   "execution_count": null,
   "metadata": {},
   "outputs": [],
   "source": [
    "xy = 'valami'"
   ]
  },
  {
   "cell_type": "code",
   "execution_count": null,
   "metadata": {},
   "outputs": [],
   "source": [
    "# cizellalas 1.: lambda\n",
    "\n",
    "TEXT = 'alma alma piros alma'\n",
    "\n",
    "def word_freq(text):\n",
    "    freq = {}\n",
    "    text = text.split()\n",
    "    for word in text:\n",
    "        if word in freq:\n",
    "            freq[word] += 1\n",
    "        else:\n",
    "            freq[word] = 1\n",
    "    return freq\n",
    "\n",
    "#def get_value(item):\n",
    "#    return item[1]\n",
    "\n",
    "def sort_freq(freq):\n",
    "    result = sorted(freq.items(), key=lambda item: item[1], reverse=True)\n",
    "    return result\n",
    "\n",
    "def writer(x):\n",
    "    for item in x:\n",
    "        print(item[1], item[0])\n",
    "\n",
    "alma_freq = word_freq(TEXT)\n",
    "sorted_alma_freq = sort_freq(alma_freq)\n",
    "writer(sorted_alma_freq)\n",
    "\n",
    "print()\n",
    "\n",
    "writer(sort_freq(word_freq(TEXT)))"
   ]
  }
 ],
 "metadata": {
  "kernelspec": {
   "display_name": "Python 3",
   "language": "python",
   "name": "python3"
  },
  "language_info": {
   "codemirror_mode": {
    "name": "ipython",
    "version": 3
   },
   "file_extension": ".py",
   "mimetype": "text/x-python",
   "name": "python",
   "nbconvert_exporter": "python",
   "pygments_lexer": "ipython3",
   "version": "3.7.9"
  }
 },
 "nbformat": 4,
 "nbformat_minor": 2
}
